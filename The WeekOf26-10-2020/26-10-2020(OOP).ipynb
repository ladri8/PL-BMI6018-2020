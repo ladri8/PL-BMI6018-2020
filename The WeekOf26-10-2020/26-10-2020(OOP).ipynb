{
 "cells": [
  {
   "cell_type": "code",
   "execution_count": null,
   "metadata": {},
   "outputs": [],
   "source": [
    "#Functions have the same name but with different paramaters are dealt differently --- [Fucntion Overloading]\n",
    "\n",
    "#In Python we cannot do the following but we can use *args..\n",
    "\n",
    "def myFunction(a,b,c):\n",
    "    return a+b+c\n",
    "\n",
    "def myFunction(a,b):\n",
    "    return a+b\n",
    "\n",
    "print(myFunction(1,2,3))\n",
    "print(myFunction(1,2))"
   ]
  },
  {
   "cell_type": "markdown",
   "metadata": {},
   "source": [
    "## Types of programming:\n",
    "\n",
    "1. Procedural proggramming: The program is lists of instructions that tell the computer what to do with the program’s input.         \n",
    "2. Functional programming: Programming decomposes a problem into a set of functions. Ideally, functions only take inputs and produce outputs, and don’t have any internal state that affects the output produced for a given input. A function maybe a nested or parent of others. A function can be a paramter and passed to another.       \n",
    "3. Object Oriented programming."
   ]
  },
  {
   "cell_type": "markdown",
   "metadata": {},
   "source": [
    "\n",
    "## [Object-Oriented Programming](https://docs.python.org/3/tutorial/classes.html#)\n",
    "\n",
    "\n",
    "<b> Object-oriented programming (OOP) is a method of structuring a program by bundling related properties and behaviors (methods) into individual objects. </b>\n",
    "\n",
    "<b> For instance, an object could represent a person with properties like a name, age, and address and behaviors (methods) such as walking, talking, breathing, and running. </b>\n",
    "\n",
    "<b>Another common programming paradigm is procedural programming, which structures a program like a recipe in that it provides a set of steps, in the form of functions and code blocks, that flow sequentially in order to complete a task. </b> \n",
    "\n",
    "\n",
    "### Examples of classes:\n",
    "\n",
    "<b> Empolyee is a class describes a tempelate or prototype of employees who have name,age,..,etc. as attributes and displayInfo, calSalary,.., etc. </b>\n",
    "\n"
   ]
  },
  {
   "cell_type": "markdown",
   "metadata": {},
   "source": [
    "# [OOP terminologies](https://python.swaroopch.com/oop.html)\n",
    "\n",
    "\n",
    "### Class\n",
    "\n",
    "1. Class − A user-defined prototype for an object that defines a set of attributes that characterize any object of the class.             \n",
    "3. Class variable − A variable that is shared by all instances of a class. Class variables are defined within a class but outside any of the class's methods. Class variables are not used as frequently as instance variables are.       \n",
    "4. Data member − A class variable or instance variable that holds data associated with a class and its objects.\n",
    "5. Method − A special kind of function that is defined in a class definition.\n",
    "         \n",
    "### Instance/object        \n",
    "1. Object - A unique instance of a data structure that's defined by its class. An object comprises both data members (class variables and instance variables) and methods.\n",
    "2. Instance − An individual object of a certain class. An object obj that belongs to a class Circle, for example, is an instance of the class Circle. \n",
    "3. Instance variable − A variable that is defined inside a method and belongs only to the current instance of a class.      \n",
    "4. The attributes are data members (class variables and instance variables) and methods, accessed via dot notation."
   ]
  },
  {
   "cell_type": "markdown",
   "metadata": {},
   "source": [
    "### OOP concepts \n",
    "\n",
    "1. Data Encapsulation, Information Hiding, and Data Abstraction.\n",
    "    - Encapsulation is bundling of data with the methods that operate on that data.   \n",
    "    - Information Hiding:  Some internal information or data is \"hidden\", so that it can't be accidentally changed.\n",
    "    - Data Abstraction: Encapsulation + Information Hiding.        \n",
    "          \n",
    "          \n",
    "\n",
    "2. Overloading:     \n",
    "The assignment of more than one behavior to a particular function.  \n",
    "                   \n",
    "                   \n",
    "3. Inheritance:      \n",
    "The transfer of the characteristics of a class to other classes that are derived from it.\n",
    "\n",
    "4. Method overriding:     \n",
    "If the same method is defined in the parent and child, the child method overrides the paernt one. We can say that it is a overloading methods."
   ]
  },
  {
   "cell_type": "markdown",
   "metadata": {},
   "source": [
    "## Creating a class\n",
    "\n",
    "\n",
    "class ClassName:      \n",
    "&nbsp;&nbsp;&nbsp;&nbsp; 'A documentaion for the class'     \n",
    "  &nbsp;&nbsp;&nbsp;&nbsp; body of the class     \n"
   ]
  },
  {
   "cell_type": "code",
   "execution_count": null,
   "metadata": {},
   "outputs": [],
   "source": [
    "class Employee:\n",
    "    'This is a class of employee data'\n",
    "    empCount = 0       # Variable that is shared by all instances\n",
    "    \n",
    "    def __init__(self, name, salary):      #A method that is called when the object is created: Self is refering to the object itself.\n",
    "        self.name = name\n",
    "        self.salary = salary\n",
    "        Employee.empCount += 1\n",
    "   \n",
    "    def displayCount(self):   #A method to display empCount\n",
    "        print (\"Total Employee %d\" % Employee.empCount)   \n",
    "\n",
    "    def displayEmployee(self):  #A method to display Employee information\n",
    "        print(\"Name : \", self.name,  \", Salary: \", self.salary)"
   ]
  },
  {
   "cell_type": "code",
   "execution_count": null,
   "metadata": {},
   "outputs": [],
   "source": [
    "#Creating two instances from the Employee Class\n",
    "\n",
    "\"This would create first object of Employee class\"\n",
    "emp1 = Employee(\"SAM1\", 4000)\n",
    "\"This would create second object of Employee class\"\n",
    "emp2 = Employee(\"SAM2\", 5000)"
   ]
  },
  {
   "cell_type": "code",
   "execution_count": null,
   "metadata": {},
   "outputs": [],
   "source": [
    "#Display information about class and its instances.\n",
    "emp1.displayEmployee()\n",
    "emp2.displayEmployee()\n",
    "print (\"Total Employee %d\" % Employee.empCount)"
   ]
  },
  {
   "cell_type": "code",
   "execution_count": null,
   "metadata": {},
   "outputs": [],
   "source": [
    "#A List or any tyoes of objects\n",
    "\n",
    "L=[emp1,emp2]"
   ]
  },
  {
   "cell_type": "code",
   "execution_count": null,
   "metadata": {},
   "outputs": [],
   "source": [
    "# Functions to access the the attributes\n",
    "\n",
    "#The getattr(obj, name[, default]) − to access the attribute of object.\n",
    "#The hasattr(obj,name) − to check if an attribute exists or not.\n",
    "#The setattr(obj,name,value) − to set an attribute. If attribute does not exist, then it would be created.\n",
    "#The delattr(obj, name) − to delete an attribute.\n",
    "\n",
    "\n",
    "print(hasattr(emp1, 'name'))    # Returns true if 'name' attribute exists\n",
    "print(getattr(emp1, 'name'))    # Returns value of 'name attribute\n",
    "setattr(emp1, 'name', 'RAM') # Set attribute 'emp1 is name\n",
    "emp1.displayEmployee()\n",
    "\n",
    "delattr(emp1, 'name')    # Delete attribute name of employee\n"
   ]
  },
  {
   "cell_type": "code",
   "execution_count": null,
   "metadata": {},
   "outputs": [],
   "source": [
    "print(hasattr(emp1, 'name'))"
   ]
  },
  {
   "cell_type": "code",
   "execution_count": null,
   "metadata": {},
   "outputs": [],
   "source": [
    "# Built-In Class Attributes\n",
    "\n",
    "# __dict__ − Dictionary containing the class's namespace.\n",
    "#__doc__ − Class documentation string or none, if undefined.\n",
    "#__name__ − Class name.\n",
    "#__module__ − Module name in which the class is defined. This attribute is \"__main__\" in interactive mode.\n",
    "#__bases__ − A possibly empty tuple containing the base classes, in the order of their occurrence in the base class list.\n",
    "\n",
    "\n",
    "print(\"Employee.__doc__:\", Employee.__doc__)\n",
    "print(\"Employee.__name__:\", Employee.__name__)\n",
    "print(\"Employee.__module__:\", Employee.__module__)\n",
    "print(\"Employee.__bases__:\", Employee.__bases__)\n",
    "print(\"Employee.__dict__:\", Employee.__dict__)"
   ]
  },
  {
   "cell_type": "code",
   "execution_count": null,
   "metadata": {},
   "outputs": [],
   "source": [
    "#Delete an object\n",
    "\n",
    "del emp1\n",
    "print (\"Total Employee %d\" % Employee.empCount)"
   ]
  },
  {
   "cell_type": "code",
   "execution_count": null,
   "metadata": {},
   "outputs": [],
   "source": [
    "## Using __del__ in the class to do some action(s) before object is deleted\n",
    "class Employee:\n",
    "    'This is a class of employee data'\n",
    "    empCount = 0       # Variable that is shared by all instances\n",
    "    \n",
    "    def __init__(self, name, salary):      #A method that is called when the object is created: Self is refering to the object itself.\n",
    "        self.name = name\n",
    "        self.salary = salary\n",
    "        Employee.empCount += 1\n",
    "        \n",
    "    def __del__(self):\n",
    "        print (\"deleted\")\n",
    "        Employee.empCount -= 1\n",
    "   \n",
    "    def displayCount(self):   #A method to display empCount\n",
    "        print (\"Total Employee %d\" % Employee.empCount)   \n",
    "\n",
    "    def displayEmployee(self):  #A method to display Employee information\n",
    "        print(\"Name : \", self.name,  \", Salary: \", self.salary)\n"
   ]
  },
  {
   "cell_type": "code",
   "execution_count": null,
   "metadata": {},
   "outputs": [],
   "source": [
    "#Creating two instances from the Employee Class\n",
    "\n",
    "\"This would create first object of Employee class\"\n",
    "emp1 = Employee(\"SAM1\", 4000)\n",
    "\"This would create second object of Employee class\"\n",
    "emp2 = Employee(\"SAM2\", 5000)"
   ]
  },
  {
   "cell_type": "code",
   "execution_count": null,
   "metadata": {},
   "outputs": [],
   "source": [
    "#Display information about class and its instances.\n",
    "emp1.displayEmployee()\n",
    "emp2.displayEmployee()\n",
    "print (\"Total Employee %d\" % Employee.empCount)"
   ]
  },
  {
   "cell_type": "code",
   "execution_count": null,
   "metadata": {},
   "outputs": [],
   "source": [
    "#Delete an object\n",
    "\n",
    "del emp1\n",
    "print (\"Total Employee %d\" % Employee.empCount)"
   ]
  },
  {
   "cell_type": "code",
   "execution_count": null,
   "metadata": {},
   "outputs": [],
   "source": [
    "#Class Inhertince -- I can inherit from 1 or more parent\n",
    "# Example from https://www.programiz.com/python-programming/inheritance\n",
    "\n",
    "#Polygon is a closed figure with 3 or more sides.\n",
    "\n",
    "class Polygon:\n",
    "    def __init__(self, no_of_sides):\n",
    "        self.n = no_of_sides\n",
    "        self.sides = [0 for i in range(no_of_sides)]\n",
    "\n",
    "    def inputSides(self):\n",
    "        self.sides = [float(input(\"Enter side \"+str(i+1)+\" : \")) for i in range(self.n)]\n",
    "\n",
    "    def dispSides(self):\n",
    "        for i in range(self.n):\n",
    "            print(\"Side\",i+1,\"is\",self.sides[i])"
   ]
  },
  {
   "cell_type": "code",
   "execution_count": null,
   "metadata": {},
   "outputs": [],
   "source": [
    "# A triangle is_a or kind_of Polygon\n",
    "class Triangle(Polygon):\n",
    "    def __init__(self):                     #This is the method overhiding\n",
    "        Polygon.__init__(self,3)    \n",
    "\n",
    "    def findArea(self):\n",
    "        a, b, c = self.sides\n",
    "        # calculate the semi-perimeter\n",
    "        s = (a + b + c) / 2\n",
    "        area = (s*(s-a)*(s-b)*(s-c)) ** 0.5\n",
    "        print('The area of the triangle is %0.2f' %area)"
   ]
  },
  {
   "cell_type": "code",
   "execution_count": null,
   "metadata": {},
   "outputs": [],
   "source": [
    "t = Triangle()\n",
    "t.inputSides()\n"
   ]
  },
  {
   "cell_type": "code",
   "execution_count": null,
   "metadata": {},
   "outputs": [],
   "source": [
    "t.dispSides()"
   ]
  },
  {
   "cell_type": "code",
   "execution_count": null,
   "metadata": {},
   "outputs": [],
   "source": [
    "t.findArea()"
   ]
  },
  {
   "cell_type": "code",
   "execution_count": null,
   "metadata": {},
   "outputs": [],
   "source": []
  }
 ],
 "metadata": {
  "kernelspec": {
   "display_name": "Python 3",
   "language": "python",
   "name": "python3"
  },
  "language_info": {
   "codemirror_mode": {
    "name": "ipython",
    "version": 3
   },
   "file_extension": ".py",
   "mimetype": "text/x-python",
   "name": "python",
   "nbconvert_exporter": "python",
   "pygments_lexer": "ipython3",
   "version": "3.7.3"
  }
 },
 "nbformat": 4,
 "nbformat_minor": 2
}
