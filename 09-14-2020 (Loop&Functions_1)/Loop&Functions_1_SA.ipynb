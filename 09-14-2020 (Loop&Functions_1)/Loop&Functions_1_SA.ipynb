{
 "cells": [
  {
   "cell_type": "markdown",
   "metadata": {},
   "source": [
    "\n",
    "### Control flow or the flow of execution \n",
    "\n",
    "The Python interpreter reads a program just like you are reading this page: one line at a time, from left to right and top to bottom. The interpreter executes operations and functions in the order that it encounters them[1](https://thehelloworldprogram.com/python/writing-python-functions-part-2-flow-scope/#:~:text=The%20Python%20interpreter%20reads%20a,or%20the%20flow%20of%20execution.)."
   ]
  },
  {
   "cell_type": "code",
   "execution_count": 1,
   "metadata": {},
   "outputs": [
    {
     "data": {
      "text/plain": [
       "4"
      ]
     },
     "execution_count": 1,
     "metadata": {},
     "output_type": "execute_result"
    }
   ],
   "source": [
    "3-9+2*5"
   ]
  },
  {
   "cell_type": "markdown",
   "metadata": {},
   "source": [
    "## [Loop sentences](https://www.tutorialspoint.com/python3/python_for_loop.htm)\n",
    "\n",
    "### For-loop\n",
    "\n",
    "<b> For loops: It is a sentence that executes a sequence of statements multiple times and abbreviates the code that manages the loop variable. </b>.   \n",
    "\n",
    "for iterating_var in sequence:        \n",
    "&nbsp;&nbsp;&nbsp;&nbsp;statements(s)\n",
    "   \n",
    "<img src=\"./images/ForLoop.png\" width=660 height=660 />\n",
    "\n",
    "\n",
    "### While-loop\n",
    "\n",
    "<b> A while loop statement in Python programming language repeatedly executes a target statement as long as a given condition is true. </b>\n",
    "\n",
    "while expression:   \n",
    "&nbsp;&nbsp;&nbsp;&nbsp;statements(s)\n",
    "\n",
    "\n",
    "<img src=\"./images/WhileLoop.png\" width=560 height=560 />\n"
   ]
  },
  {
   "cell_type": "code",
   "execution_count": 2,
   "metadata": {},
   "outputs": [
    {
     "name": "stdout",
     "output_type": "stream",
     "text": [
      "This is a for loop\n",
      "0 1\n",
      "1 2\n",
      "2 3\n",
      "This is a while loop\n",
      "0 1\n",
      "1 2\n",
      "2 3\n"
     ]
    }
   ],
   "source": [
    "# Example: two equal sentences of for and while\n",
    "\n",
    "L=[1,2,3]\n",
    "\n",
    "\n",
    "#Using for-loop\n",
    "\n",
    "print ('This is a for loop')\n",
    "\n",
    "for index in range(len(L)):\n",
    "    print(index, L[index])\n",
    "\n",
    "#Using while-loop\n",
    "\n",
    "print ('This is a while loop')\n",
    "\n",
    "index=0\n",
    "\n",
    "while (index < len(L)):\n",
    "    print(index, L[index])\n",
    "    index +=1\n"
   ]
  },
  {
   "cell_type": "code",
   "execution_count": 4,
   "metadata": {},
   "outputs": [
    {
     "name": "stdout",
     "output_type": "stream",
     "text": [
      "This is a for loop\n",
      "0 1\n",
      "1 2\n",
      "2 3\n",
      "This is a while loop\n",
      "1 2\n",
      "2 3\n"
     ]
    },
    {
     "ename": "IndexError",
     "evalue": "list index out of range",
     "output_type": "error",
     "traceback": [
      "\u001b[0;31m---------------------------------------------------------------------------\u001b[0m",
      "\u001b[0;31mIndexError\u001b[0m                                Traceback (most recent call last)",
      "\u001b[0;32m<ipython-input-4-ffa4841296ae>\u001b[0m in \u001b[0;36m<module>\u001b[0;34m\u001b[0m\n\u001b[1;32m     20\u001b[0m \u001b[0;32mwhile\u001b[0m \u001b[0;34m(\u001b[0m\u001b[0mindex\u001b[0m \u001b[0;34m<\u001b[0m \u001b[0mlen\u001b[0m\u001b[0;34m(\u001b[0m\u001b[0mL\u001b[0m\u001b[0;34m)\u001b[0m\u001b[0;34m)\u001b[0m\u001b[0;34m:\u001b[0m\u001b[0;34m\u001b[0m\u001b[0;34m\u001b[0m\u001b[0m\n\u001b[1;32m     21\u001b[0m     \u001b[0mindex\u001b[0m \u001b[0;34m+=\u001b[0m\u001b[0;36m1\u001b[0m\u001b[0;34m\u001b[0m\u001b[0;34m\u001b[0m\u001b[0m\n\u001b[0;32m---> 22\u001b[0;31m     \u001b[0mprint\u001b[0m\u001b[0;34m(\u001b[0m\u001b[0mindex\u001b[0m\u001b[0;34m,\u001b[0m \u001b[0mL\u001b[0m\u001b[0;34m[\u001b[0m\u001b[0mindex\u001b[0m\u001b[0;34m]\u001b[0m\u001b[0;34m)\u001b[0m\u001b[0;34m\u001b[0m\u001b[0;34m\u001b[0m\u001b[0m\n\u001b[0m\u001b[1;32m     23\u001b[0m \u001b[0;34m\u001b[0m\u001b[0m\n",
      "\u001b[0;31mIndexError\u001b[0m: list index out of range"
     ]
    }
   ],
   "source": [
    "# Example: two equal sentences of for and while\n",
    "\n",
    "L=[1,2,3]\n",
    "\n",
    "\n",
    "#Using for-loop\n",
    "\n",
    "print ('This is a for loop')\n",
    "\n",
    "for index in range(len(L)):\n",
    "    print(index, L[index])\n",
    "\n",
    "#Using while-loop\n",
    "\n",
    "print ('This is a while loop')\n",
    "\n",
    "index=0\n",
    "\n",
    "# Be careful from increasing index\n",
    "while (index < len(L)):\n",
    "    index +=1\n",
    "    print(index, L[index])\n",
    "   \n"
   ]
  },
  {
   "cell_type": "markdown",
   "metadata": {},
   "source": [
    "### Examples using loop sentences in sequences."
   ]
  },
  {
   "cell_type": "code",
   "execution_count": 5,
   "metadata": {},
   "outputs": [
    {
     "name": "stdout",
     "output_type": "stream",
     "text": [
      "The type of fruit <class 'str'>\n",
      "B\n",
      "M\n",
      "I\n",
      "6\n",
      "0\n",
      "1\n",
      "8\n",
      "\n",
      "The type of fruit <class 'set'>\n",
      "banana\n",
      "mango\n",
      "apple\n",
      "\n",
      "The type of fruit <class 'dict'>\n",
      "1 banana\n",
      "2 apple\n",
      "3 mango\n"
     ]
    }
   ],
   "source": [
    "print('The type of fruit', type('BMI6018'))\n",
    "for letter in 'BMI6018':     # traversal of a string sequence(letter)\n",
    "    print(letter)\n",
    "\n",
    "    \n",
    "print()\n",
    "fruits = {'banana', 'apple',  'mango'}\n",
    "print('The type of fruit', type(fruits))\n",
    "for fruit in fruits:        # traversal of set sequence\n",
    "    print(fruit)\n",
    "\n",
    "print()   \n",
    "fruits = {1:'banana', 2:'apple',  3:'mango'}\n",
    "print('The type of fruit', type(fruits))\n",
    "for fruit in fruits.keys():        # traversal of set sequence\n",
    "    print(fruit, fruits[fruit])\n",
    "\n",
    "\n"
   ]
  },
  {
   "cell_type": "markdown",
   "metadata": {},
   "source": [
    "### Control sentences with loop sentences\n",
    "\n",
    "1. break sentence       \n",
    "    - Terminates the loop statement and transfers execution to the statement immediately following the loop.    \n",
    "2. continue sentence\n",
    "    - Causes the loop to skip the remainder of its body and immediately retest its condition prior to reiterating.    \n",
    "3. pass sentence\n",
    "    - The pass statement in Python is used when a statement is required syntactically but you do not want any command or code to execute.      "
   ]
  },
  {
   "cell_type": "code",
   "execution_count": 6,
   "metadata": {},
   "outputs": [
    {
     "name": "stdout",
     "output_type": "stream",
     "text": [
      "\n",
      "The type of fruit <class 'list'>\n",
      "banana\n",
      "\n",
      "GoodBye\n"
     ]
    }
   ],
   "source": [
    "# Using break: It will print only 'banana'\n",
    "\n",
    "print()\n",
    "fruits = ['banana', 'apple',  'mango']\n",
    "print('The type of fruit', type(fruits))\n",
    "for fruit in fruits:  # traversal of set sequence\n",
    "    if (fruit=='apple'):\n",
    "        break\n",
    "    print(fruit)\n",
    "print('\\nGoodBye')"
   ]
  },
  {
   "cell_type": "code",
   "execution_count": 7,
   "metadata": {},
   "outputs": [
    {
     "name": "stdout",
     "output_type": "stream",
     "text": [
      "\n",
      "The type of fruit <class 'list'>\n",
      "banana\n",
      "mango\n",
      "\n",
      "GoodBye\n"
     ]
    }
   ],
   "source": [
    "# Using break: It will print every list item except 'apple'\n",
    "\n",
    "print()\n",
    "fruits = ['banana', 'apple',  'mango']\n",
    "print('The type of fruit', type(fruits))\n",
    "for fruit in fruits:  # traversal of set sequence\n",
    "    if (fruit=='apple'):\n",
    "        continue\n",
    "    print(fruit)\n",
    "print('\\nGoodBye')"
   ]
  },
  {
   "cell_type": "code",
   "execution_count": 8,
   "metadata": {},
   "outputs": [
    {
     "name": "stdout",
     "output_type": "stream",
     "text": [
      "\n",
      "The type of fruit <class 'list'>\n",
      "banana\n",
      "apple\n",
      "mango\n",
      "\n",
      "GoodBye\n"
     ]
    }
   ],
   "source": [
    "# Using break: It will print every list item and when 'apple' comes, it do nothing\n",
    "\n",
    "print()\n",
    "fruits = ['banana', 'apple',  'mango']\n",
    "print('The type of fruit', type(fruits))\n",
    "for fruit in fruits:  # traversal of set sequence\n",
    "    if (fruit=='apple'):\n",
    "        pass\n",
    "    print(fruit)\n",
    "print('\\nGoodBye')"
   ]
  },
  {
   "cell_type": "markdown",
   "metadata": {},
   "source": [
    "### Nested Loop\n",
    "\n",
    "<b> Loop(s) inside loop(s) </b>"
   ]
  },
  {
   "cell_type": "markdown",
   "metadata": {},
   "source": [
    "### [Examples from math (norms)](https://mathcs.clarku.edu/~ma130/inner1.pdf)\n",
    "\n",
    "\n",
    "<img src=\"./images/InnerProduct.png\" width=560 height=560 />\n",
    "\n"
   ]
  },
  {
   "cell_type": "code",
   "execution_count": 9,
   "metadata": {},
   "outputs": [
    {
     "name": "stdout",
     "output_type": "stream",
     "text": [
      "A string with commas: 12,345,56\n",
      "String items ['12', '345', '56']\n",
      "Float items [12.0, 345.0, 56.0]\n"
     ]
    }
   ],
   "source": [
    "## Splitting a string input using ',' into a list to have a float list\n",
    "\n",
    "L= (input('A string with commas: ')).split(',')\n",
    "print(\"String items\",L)\n",
    "\n",
    "for index in range(len(L)):\n",
    "    L[index]=float(L[index])\n",
    "print(\"Float items\",L)"
   ]
  },
  {
   "cell_type": "code",
   "execution_count": 16,
   "metadata": {},
   "outputs": [
    {
     "name": "stdout",
     "output_type": "stream",
     "text": [
      "A string with commas: 6,7,8\n",
      "A string with commas: 9,7,10\n",
      "Inner Product  546.0\n",
      "Inner Product  183.0\n"
     ]
    }
   ],
   "source": [
    "# Enter two lists to present vectors:\n",
    "\n",
    "L1= (input('A string with commas: ')).split(',')\n",
    "for index in range(len(L1)):\n",
    "    L1[index]=float(L1[index])\n",
    "\n",
    "L2= (input('A string with commas: ')).split(',')\n",
    "for index in range(len(L2)):\n",
    "    L2[index]=float(L2[index])\n",
    "\n",
    "innerProduct=0\n",
    "if (len(L1)==len(L2)):\n",
    "    for l1 in L1:\n",
    "        for l2 in L2:\n",
    "            innerProduct += l1*l2\n",
    "    print('Inner Product ', innerProduct)\n",
    "    \n",
    "    \n",
    "innerProduct=0\n",
    "if (len(L1)==len(L2)):\n",
    "    for index in range(0,len(L1)):\n",
    "        innerProduct +=L1[index]*L2[index]\n",
    "    print('Inner Product ', innerProduct)         \n",
    "            "
   ]
  },
  {
   "cell_type": "markdown",
   "metadata": {},
   "source": [
    "## Loop with else\n",
    "\n",
    "for iterating_var in sequence:        \n",
    "&nbsp;&nbsp;&nbsp;&nbsp;statements(s)      \n",
    "else:       \n",
    "&nbsp;&nbsp;&nbsp;&nbsp;statements(s)       \n",
    "\n",
    "\n",
    "while expression:          \n",
    "&nbsp;&nbsp;&nbsp;&nbsp;statements(s)      \n",
    "else:       \n",
    "&nbsp;&nbsp;&nbsp;&nbsp;statements(s)\n"
   ]
  },
  {
   "cell_type": "code",
   "execution_count": 17,
   "metadata": {},
   "outputs": [
    {
     "name": "stdout",
     "output_type": "stream",
     "text": [
      "Enter the first item to print:1\n",
      "Enter the last item to print:67\n",
      "1\n",
      "2\n",
      "3\n",
      "4\n",
      "5\n",
      "6\n",
      "7\n",
      "8\n",
      "9\n",
      "10\n",
      "11\n",
      "12\n",
      "13\n",
      "14\n",
      "15\n",
      "16\n",
      "17\n",
      "18\n",
      "19\n",
      "20\n",
      "21\n",
      "22\n",
      "23\n",
      "24\n",
      "25\n",
      "26\n",
      "27\n",
      "28\n",
      "29\n",
      "30\n",
      "31\n",
      "32\n",
      "33\n",
      "34\n",
      "35\n",
      "36\n",
      "37\n",
      "38\n",
      "39\n",
      "40\n",
      "41\n",
      "42\n",
      "43\n",
      "44\n",
      "45\n",
      "46\n",
      "47\n",
      "48\n",
      "49\n",
      "50\n",
      "51\n",
      "52\n",
      "53\n",
      "54\n",
      "55\n",
      "56\n",
      "57\n",
      "58\n",
      "59\n",
      "60\n",
      "61\n",
      "62\n",
      "63\n",
      "64\n",
      "65\n",
      "66\n",
      "out of range\n"
     ]
    }
   ],
   "source": [
    "## Examples: for-loop\n",
    "\n",
    "first=int(input('Enter the first item to print:'))\n",
    "last=int(input('Enter the last item to print:'))\n",
    "\n",
    "for i in range(first,last):\n",
    "    print(i)\n",
    "else:\n",
    "    print('out of range')\n",
    "\n",
    "    "
   ]
  },
  {
   "cell_type": "code",
   "execution_count": 18,
   "metadata": {},
   "outputs": [
    {
     "name": "stdout",
     "output_type": "stream",
     "text": [
      "Enter the first item to print:1\n",
      "Enter the last item to print:4\n",
      "1\n",
      "2\n",
      "3\n",
      "out of range\n"
     ]
    }
   ],
   "source": [
    "## Examples while-loop\n",
    "\n",
    "first=int(input('Enter the first item to print:'))\n",
    "last=int(input('Enter the last item to print:'))\n",
    "\n",
    "while (first < last):\n",
    "    print(first)\n",
    "    first +=1\n",
    "else:\n",
    "    print('out of range')\n"
   ]
  },
  {
   "cell_type": "markdown",
   "metadata": {},
   "source": [
    "## While-loop with flag\n",
    "\n",
    "\n",
    "<b> In while sentence, the while block is executed until the expression condition becomes false. </b>\n",
    "\n",
    "\n",
    "\n",
    "### Examples\n",
    "\n"
   ]
  },
  {
   "cell_type": "code",
   "execution_count": 19,
   "metadata": {},
   "outputs": [
    {
     "name": "stdout",
     "output_type": "stream",
     "text": [
      "Enter a positive number, the program will halt when you enter a negative number:4\n",
      "4 is an even number\n",
      "Enter a positive number, the program will halt when you enter a negative number:3\n",
      "3 is an odd number\n",
      "Enter a positive number, the program will halt when you enter a negative number:-1\n",
      "End of the program\n"
     ]
    }
   ],
   "source": [
    "# Enter from the keyboard positive numbers and check for each number if it is even or odd. Stop the progrom when you enter a negative number.\n",
    "\n",
    "while (True):\n",
    "    number= int(input('Enter a positive number, the program will halt when you enter a negative number:'))\n",
    "    if (number < 0):\n",
    "        break\n",
    "    else:\n",
    "        if (not(number % 2)):\n",
    "             print(\"%d is an even number\" %(number))\n",
    "        else:\n",
    "             print(\"%d is an odd number\" %(number))\n",
    "print('End of the program')\n",
    "            \n"
   ]
  },
  {
   "cell_type": "code",
   "execution_count": 20,
   "metadata": {},
   "outputs": [
    {
     "name": "stdout",
     "output_type": "stream",
     "text": [
      "Enter a positive number, the program will halt when you enter a negative number:4\n",
      "4 is an even number\n",
      "Enter a positive number, the program will halt when you enter a negative number:3\n",
      "3 is an odd number\n",
      "Enter a positive number, the program will halt when you enter a negative number:-1\n",
      "End of the program\n"
     ]
    }
   ],
   "source": [
    "## Using flag and else instead of true and flag\n",
    "\n",
    "# Enter from the keyboard positive numbers and check for each number if it is even or odd. Stop the progrom when you enter a negative number.\n",
    "\n",
    "flag = True\n",
    "while (flag):\n",
    "    number= int(input('Enter a positive number, the program will halt when you enter a negative number:'))\n",
    "    if (number < 0):\n",
    "        flag = False\n",
    "    else:\n",
    "        if (not(number % 2)):\n",
    "             print(\"%d is an even number\" %(number))\n",
    "        else:\n",
    "             print(\"%d is an odd number\" %(number))\n",
    "else:\n",
    "    print('End of the program')\n",
    "\n",
    "\n"
   ]
  },
  {
   "cell_type": "markdown",
   "metadata": {},
   "source": [
    "## [Palindrome Problem](https://en.wikipedia.org/wiki/Palindrome)\n",
    "\n",
    "<b> A palindrome is a word, number, phrase, or other sequence of characters which reads the same backward as forward, such as madam, racecar. </b>\n",
    "\n",
    "<img src=\"./images/Palindrome.png\" width=760 height=760 />\n"
   ]
  },
  {
   "cell_type": "code",
   "execution_count": null,
   "metadata": {},
   "outputs": [],
   "source": [
    "# Write a function to check if the string (s) is a palindrome or not.\n",
    "\n",
    "\"\"\"\n",
    "    # Run loop from 0 to len/2 \n",
    "    for i in range(0, int(len(str)/2)): \n",
    "        if str[i] != str[len(str)-i-1]:\n",
    "            return False\n",
    "    return True\n",
    "    \n",
    "i=0, len(s)-i-1=4\n",
    "i=1, len(s)-i-1=3\n",
    "\n",
    "\"\"\"\n",
    "def ispalindrome(s):\n",
    "    for i in range(0, int(len(s)/2)): \n",
    "        if s[i] != s[len(s)-i-1]:\n",
    "            return False\n",
    "    return True\n",
    "\n",
    "s=input('Input a string  ')\n",
    "if (ispalindrome(s)):\n",
    "    print(\"%s is a palindorme string\" %(s))\n",
    "else:\n",
    "    print(\"%s is not a palindorme string\" %(s))"
   ]
  },
  {
   "cell_type": "code",
   "execution_count": null,
   "metadata": {},
   "outputs": [],
   "source": [
    "# Write a while loop that checks any input string if it is a palindrome or not until a sentinel string \"END\" is entered.\n",
    "\n",
    "\n",
    "def ispalindrome(s):\n",
    "    for i in range(0, int(len(s)/2)): \n",
    "        if s[i] != s[len(s)-i-1]:\n",
    "            return False\n",
    "    return True\n",
    "\n",
    "while (True):\n",
    "    s=input('Input a string  ')\n",
    "    if (s=='END'):\n",
    "        print('END of the program ')\n",
    "        break;\n",
    "    elif (ispalindrome(s)):\n",
    "        print(\"%s is a palindorme string\" %(s))\n",
    "    else:\n",
    "        print(\"%s is not a palindorme string\" %(s))\n",
    "        \n",
    "    "
   ]
  },
  {
   "cell_type": "markdown",
   "metadata": {},
   "source": [
    "## Functions  \n",
    "\n"
   ]
  },
  {
   "cell_type": "code",
   "execution_count": 21,
   "metadata": {},
   "outputs": [
    {
     "ename": "NameError",
     "evalue": "name 'helloWorld' is not defined",
     "output_type": "error",
     "traceback": [
      "\u001b[0;31m---------------------------------------------------------------------------\u001b[0m",
      "\u001b[0;31mNameError\u001b[0m                                 Traceback (most recent call last)",
      "\u001b[0;32m<ipython-input-21-2ce709f9cbc4>\u001b[0m in \u001b[0;36m<module>\u001b[0;34m\u001b[0m\n\u001b[1;32m      1\u001b[0m \u001b[0;31m# Example of the flow of execution\u001b[0m\u001b[0;34m\u001b[0m\u001b[0;34m\u001b[0m\u001b[0;34m\u001b[0m\u001b[0m\n\u001b[1;32m      2\u001b[0m \u001b[0;34m\u001b[0m\u001b[0m\n\u001b[0;32m----> 3\u001b[0;31m \u001b[0mhelloWorld\u001b[0m\u001b[0;34m(\u001b[0m\u001b[0;34m)\u001b[0m\u001b[0;34m\u001b[0m\u001b[0;34m\u001b[0m\u001b[0m\n\u001b[0m\u001b[1;32m      4\u001b[0m \u001b[0;34m\u001b[0m\u001b[0m\n\u001b[1;32m      5\u001b[0m \u001b[0;32mdef\u001b[0m \u001b[0mhelloWorld\u001b[0m\u001b[0;34m(\u001b[0m\u001b[0;34m)\u001b[0m\u001b[0;34m:\u001b[0m\u001b[0;34m\u001b[0m\u001b[0;34m\u001b[0m\u001b[0m\n",
      "\u001b[0;31mNameError\u001b[0m: name 'helloWorld' is not defined"
     ]
    }
   ],
   "source": [
    "# Example of the flow of execution\n",
    "\n",
    "helloWorld()\n",
    "\n",
    "def helloWorld():\n",
    "    print(\"Hello World\")"
   ]
  },
  {
   "cell_type": "markdown",
   "metadata": {},
   "source": [
    "## Passing parameters or arguments to the functions\n",
    "\n",
    "1. Positional arguments:\n",
    "    - Python matches each parameter in the function call with its position in the function definition.\n",
    "2. Keyword arguments:\n",
    "    - In the function call, you can name the parameter in the function definition with its value without caring of parameter order. \n",
    "3. Default arguments:\n",
    "    - In the function definition, you can set a default value to a parmater.\n",
    "\n"
   ]
  },
  {
   "cell_type": "code",
   "execution_count": 22,
   "metadata": {},
   "outputs": [
    {
     "name": "stdout",
     "output_type": "stream",
     "text": [
      "a is 1, b is 3, and c is 4\n",
      "The sum is 8\n"
     ]
    }
   ],
   "source": [
    "# Positional arguments\n",
    "\n",
    "def sumThreeNumbers(a,b,c):\n",
    "    print(\"a is %d, b is %d, and c is %d\"%(a,b,c))\n",
    "    return a+b+c\n",
    "\n",
    "s=sumThreeNumbers(1,3,4)\n",
    "print(\"The sum is %d\"%(s))"
   ]
  },
  {
   "cell_type": "code",
   "execution_count": 23,
   "metadata": {},
   "outputs": [
    {
     "name": "stdout",
     "output_type": "stream",
     "text": [
      "a is 4, b is 2, and c is 1\n",
      "The sum is 7\n"
     ]
    }
   ],
   "source": [
    "# Keyword arguments\n",
    "\n",
    "def sumThreeNumbers(a,b,c):\n",
    "    print(\"a is %d, b is %d, and c is %d\"%(a,b,c))\n",
    "    return a+b+c\n",
    "\n",
    "s=sumThreeNumbers(c=1,a=4,b=2)\n",
    "print(\"The sum is %d\"%(s))"
   ]
  },
  {
   "cell_type": "code",
   "execution_count": 24,
   "metadata": {},
   "outputs": [
    {
     "name": "stdout",
     "output_type": "stream",
     "text": [
      "a is 3, b is 1, and c is 2\n",
      "The sum is 6\n",
      "a is 2, b is 1, and c is 2\n",
      "The sum is 5\n"
     ]
    }
   ],
   "source": [
    "# default arguments\n",
    "\n",
    "def sumThreeNumbers(b,c,a=3):\n",
    "    print(\"a is %d, b is %d, and c is %d\"%(a,b,c))\n",
    "    return a+b+c\n",
    "\n",
    "s=sumThreeNumbers(b=1,c=2)\n",
    "print(\"The sum is %d\"%(s))\n",
    "\n",
    "s=sumThreeNumbers(b=1,c=2,a=2)\n",
    "print(\"The sum is %d\"%(s))"
   ]
  },
  {
   "cell_type": "markdown",
   "metadata": {},
   "source": [
    "## *args and **kwargs in Python\n",
    "\n",
    "1. <b> *args </b> in the function definition arguments to pass a non-key worded, variable-length argument list. A good example is print function\n",
    "2. <b> **kwargs </b> in the function definition arguments to pass a keyworded, variable-length argument list.\n"
   ]
  },
  {
   "cell_type": "code",
   "execution_count": 25,
   "metadata": {},
   "outputs": [
    {
     "name": "stdout",
     "output_type": "stream",
     "text": [
      "(1, 3, -1)\n",
      "The length of list is 3\n",
      "3\n",
      "\n",
      "(1, 3)\n",
      "The length of list is 2\n",
      "4\n"
     ]
    }
   ],
   "source": [
    "# Example *args\n",
    "# Write a function to sum a group of numbers.\n",
    "\n",
    "def sumNumbers(*args):\n",
    "    sum=0\n",
    "    print(args)\n",
    "    print (\"The length of list is \"+str(len(args)))\n",
    "    for i in args:\n",
    "        sum +=i\n",
    "    return (sum)\n",
    "\n",
    "print(sumNumbers(1,3,-1))\n",
    "print()\n",
    "print(sumNumbers(1,3))\n",
    "\n"
   ]
  },
  {
   "cell_type": "code",
   "execution_count": 26,
   "metadata": {},
   "outputs": [
    {
     "name": "stdout",
     "output_type": "stream",
     "text": [
      "List of numbers is  (1, 3, -1)\n",
      "The length of list is 3\n",
      "3\n",
      "\n",
      "List of numbers is (1, 3)\n",
      "The length of list is 2\n",
      "4\n"
     ]
    }
   ],
   "source": [
    "# Example *args and one more argument.\n",
    "# Write a function to sum a group of numbers.\n",
    "\n",
    "def sumNumbers(arg, *args):\n",
    "    sum=0\n",
    "    print(arg, args)\n",
    "    print (\"The length of list is \"+str(len(args)))\n",
    "    for i in args:\n",
    "        sum +=i\n",
    "    return (sum)\n",
    "\n",
    "print(sumNumbers(\"List of numbers is \", 1,3,-1))\n",
    "print()\n",
    "print(sumNumbers(\"List of numbers is\",1,3))\n"
   ]
  },
  {
   "cell_type": "code",
   "execution_count": 1,
   "metadata": {},
   "outputs": [
    {
     "ename": "TypeError",
     "evalue": "sumNumbers() missing 1 required keyword-only argument: 'arg'",
     "output_type": "error",
     "traceback": [
      "\u001b[0;31m---------------------------------------------------------------------------\u001b[0m",
      "\u001b[0;31mTypeError\u001b[0m                                 Traceback (most recent call last)",
      "\u001b[0;32m<ipython-input-1-e8a42c0b4a1a>\u001b[0m in \u001b[0;36m<module>\u001b[0;34m\u001b[0m\n\u001b[1;32m     10\u001b[0m     \u001b[0;32mreturn\u001b[0m \u001b[0;34m(\u001b[0m\u001b[0msum\u001b[0m\u001b[0;34m)\u001b[0m\u001b[0;34m\u001b[0m\u001b[0;34m\u001b[0m\u001b[0m\n\u001b[1;32m     11\u001b[0m \u001b[0;34m\u001b[0m\u001b[0m\n\u001b[0;32m---> 12\u001b[0;31m \u001b[0mprint\u001b[0m\u001b[0;34m(\u001b[0m\u001b[0msumNumbers\u001b[0m\u001b[0;34m(\u001b[0m\u001b[0;36m1\u001b[0m\u001b[0;34m,\u001b[0m\u001b[0;36m3\u001b[0m\u001b[0;34m,\u001b[0m\u001b[0;34m-\u001b[0m\u001b[0;36m1\u001b[0m\u001b[0;34m,\u001b[0m\u001b[0;34m\"List of numbers is \"\u001b[0m\u001b[0;34m)\u001b[0m\u001b[0;34m)\u001b[0m\u001b[0;34m\u001b[0m\u001b[0;34m\u001b[0m\u001b[0m\n\u001b[0m\u001b[1;32m     13\u001b[0m \u001b[0mprint\u001b[0m\u001b[0;34m(\u001b[0m\u001b[0;34m)\u001b[0m\u001b[0;34m\u001b[0m\u001b[0;34m\u001b[0m\u001b[0m\n\u001b[1;32m     14\u001b[0m \u001b[0mrint\u001b[0m\u001b[0;34m(\u001b[0m\u001b[0msumNumbers\u001b[0m\u001b[0;34m(\u001b[0m\u001b[0;36m1\u001b[0m\u001b[0;34m,\u001b[0m\u001b[0;36m3\u001b[0m\u001b[0;34m,\u001b[0m\u001b[0;34m\"List of numbers is \"\u001b[0m\u001b[0;34m)\u001b[0m\u001b[0;34m)\u001b[0m\u001b[0;34m\u001b[0m\u001b[0;34m\u001b[0m\u001b[0m\n",
      "\u001b[0;31mTypeError\u001b[0m: sumNumbers() missing 1 required keyword-only argument: 'arg'"
     ]
    }
   ],
   "source": [
    "# Example *args and one more argument.\n",
    "# Write a function to sum a group of numbers.\n",
    "\n",
    "def sumNumbers(*args,arg):\n",
    "    sum=0\n",
    "    print(arg, args)\n",
    "    print (\"The length of list is \"+str(len(args)))\n",
    "    for i in args:\n",
    "        sum +=i\n",
    "    return (sum)\n",
    "\n",
    "print(sumNumbers(1,3,-1,\"List of numbers is \"))\n",
    "print()\n",
    "rint(sumNumbers(1,3,\"List of numbers is \"))"
   ]
  },
  {
   "cell_type": "code",
   "execution_count": 2,
   "metadata": {},
   "outputs": [
    {
     "name": "stdout",
     "output_type": "stream",
     "text": [
      "The list of numbers is  (1, 3, -1)\n",
      "The length of list is 3\n",
      "3\n",
      "\n",
      "The list of numbers is  (1, 3)\n",
      "The length of list is 2\n",
      "4\n"
     ]
    }
   ],
   "source": [
    "# Example *args and one more argument.\n",
    "# Write a function to sum a group of numbers.\n",
    "\n",
    "def sumNumbers(*args,arg):\n",
    "    sum=0\n",
    "    print(arg, args)\n",
    "    print (\"The length of list is \"+str(len(args)))\n",
    "    for i in args:\n",
    "        sum +=i\n",
    "    return (sum)\n",
    "\n",
    "print(sumNumbers(1,3,-1,arg=\"The list of numbers is \"))\n",
    "print()\n",
    "print(sumNumbers(1,3,arg=\"The list of numbers is \"))"
   ]
  },
  {
   "cell_type": "code",
   "execution_count": 3,
   "metadata": {},
   "outputs": [
    {
     "name": "stdout",
     "output_type": "stream",
     "text": [
      "{'a': 1, 'b': 3, 'c': -1}\n",
      "The length of list is 3\n",
      "3\n",
      "\n",
      "{'a': 1, 'b': 3}\n",
      "The length of list is 2\n",
      "4\n"
     ]
    }
   ],
   "source": [
    "# Example **kwargs.\n",
    "# Write a function to sum a group of numbers.\n",
    "\n",
    "def sumNumbers(**kwargs):\n",
    "    sum=0\n",
    "    print(kwargs)\n",
    "    print (\"The length of list is \"+str(len(kwargs)))\n",
    "    for i in kwargs.keys():\n",
    "        sum +=kwargs[i]\n",
    "    return (sum)\n",
    "\n",
    "print(sumNumbers(a=1,b=3,c=-1))\n",
    "print()\n",
    "print(sumNumbers(a=1,b=3))"
   ]
  },
  {
   "cell_type": "code",
   "execution_count": 4,
   "metadata": {},
   "outputs": [
    {
     "name": "stdout",
     "output_type": "stream",
     "text": [
      "The list of numbers is  {'a': 1, 'b': 3, 'c': -1}\n",
      "The length of list is 3\n",
      "3\n",
      "\n",
      "The list of numbers is  {'a': 1, 'b': 3}\n",
      "The length of list is 2\n",
      "4\n"
     ]
    }
   ],
   "source": [
    "# Example **kwargs and one more argument.\n",
    "# Write a function to sum a group of numbers.\n",
    "\n",
    "def sumNumbers(arg,**kwargs):\n",
    "    sum=0\n",
    "    print(arg, kwargs)\n",
    "    print (\"The length of list is \"+str(len(kwargs)))\n",
    "    for i in kwargs.keys():\n",
    "        sum +=kwargs[i]\n",
    "    return (sum)\n",
    "print(sumNumbers(\"The list of numbers is \",a=1,b=3,c=-1))\n",
    "print()\n",
    "print(sumNumbers(\"The list of numbers is \",a=1,b=3))"
   ]
  },
  {
   "cell_type": "code",
   "execution_count": 7,
   "metadata": {},
   "outputs": [
    {
     "ename": "SyntaxError",
     "evalue": "invalid syntax (<ipython-input-7-c8bb726d5780>, line 4)",
     "output_type": "error",
     "traceback": [
      "\u001b[0;36m  File \u001b[0;32m\"<ipython-input-7-c8bb726d5780>\"\u001b[0;36m, line \u001b[0;32m4\u001b[0m\n\u001b[0;31m    def sumNumbers(**kwargs,arg1):\u001b[0m\n\u001b[0m                               ^\u001b[0m\n\u001b[0;31mSyntaxError\u001b[0m\u001b[0;31m:\u001b[0m invalid syntax\n"
     ]
    }
   ],
   "source": [
    "# Example **kwargs and one more argument.\n",
    "# Write a function to sum a group of numbers.\n",
    "\n",
    "def sumNumbers(**kwargs,arg1):\n",
    "    sum=0\n",
    "    print(arg1, kwargs)\n",
    "    print (\"The length of list is \"+str(len(kwargs)))\n",
    "    for i in kwargs.keys():\n",
    "        sum +=kwargs[i]\n",
    "    return (sum)\n",
    "print(sumNumbers(a=1,b=3,c=-1,\"The list of numbers is \"))\n",
    "print()\n",
    "print(sumNumbers(a=1,b=3,\"The list of numbers is \"))"
   ]
  },
  {
   "cell_type": "code",
   "execution_count": null,
   "metadata": {},
   "outputs": [],
   "source": [
    "# prime number is the number that is divisable by 1 and itself.\n",
    "\n",
    "Num=7\n",
    "\n",
    "7 % 2\n",
    "7 % 3\n",
    "7 % 4\n",
    "7 % 5\n",
    "7 % 6\n",
    "\n"
   ]
  }
 ],
 "metadata": {
  "kernelspec": {
   "display_name": "Python 3",
   "language": "python",
   "name": "python3"
  },
  "language_info": {
   "codemirror_mode": {
    "name": "ipython",
    "version": 3
   },
   "file_extension": ".py",
   "mimetype": "text/x-python",
   "name": "python",
   "nbconvert_exporter": "python",
   "pygments_lexer": "ipython3",
   "version": "3.7.3"
  }
 },
 "nbformat": 4,
 "nbformat_minor": 2
}
