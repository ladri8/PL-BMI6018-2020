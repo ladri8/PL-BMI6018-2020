{
 "cells": [
  {
   "cell_type": "markdown",
   "metadata": {},
   "source": [
    "\n",
    "### Control flow or the flow of execution \n",
    "\n",
    "The Python interpreter reads a program just like you are reading this page: one line at a time, from left to right and top to bottom. The interpreter executes operations and functions in the order that it encounters them[1](https://thehelloworldprogram.com/python/writing-python-functions-part-2-flow-scope/#:~:text=The%20Python%20interpreter%20reads%20a,or%20the%20flow%20of%20execution.)."
   ]
  },
  {
   "cell_type": "markdown",
   "metadata": {},
   "source": [
    "## [Loop sentences](https://www.tutorialspoint.com/python3/python_for_loop.htm)\n",
    "\n",
    "### For-loop\n",
    "\n",
    "<b> For loops: It is a sentence that executes a sequence of statements multiple times and abbreviates the code that manages the loop variable. </b>.   \n",
    "\n",
    "for iterating_var in sequence:        \n",
    "&nbsp;&nbsp;&nbsp;&nbsp;statements(s)\n",
    "   \n",
    "<img src=\"./images/ForLoop.png\" width=660 height=660 />\n",
    "\n",
    "\n",
    "### While-loop\n",
    "\n",
    "<b> A while loop statement in Python programming language repeatedly executes a target statement as long as a given condition is true. </b>\n",
    "\n",
    "while expression:   \n",
    "&nbsp;&nbsp;&nbsp;&nbsp;statements(s)\n",
    "\n",
    "\n",
    "<img src=\"./images/WhileLoop.png\" width=560 height=560 />\n"
   ]
  },
  {
   "cell_type": "code",
   "execution_count": null,
   "metadata": {},
   "outputs": [],
   "source": [
    "# Example: two equal sentences of for and while\n",
    "\n",
    "L=[1,2,3]\n",
    "\n",
    "\n",
    "#Using for-loop\n",
    "\n",
    "print ('This is a for loop')\n",
    "\n",
    "for index in range(len(L)):\n",
    "    print(index, L[index])\n",
    "\n",
    "#Using while-loop\n",
    "\n",
    "print ('This is a while loop')\n",
    "\n",
    "index=0\n",
    "\n",
    "while (index < len(L)):\n",
    "    print(index, L[index])\n",
    "    index +=1\n"
   ]
  },
  {
   "cell_type": "markdown",
   "metadata": {},
   "source": [
    "### Examples using loop sentences in sequences."
   ]
  },
  {
   "cell_type": "code",
   "execution_count": null,
   "metadata": {},
   "outputs": [],
   "source": [
    "print('The type of fruit', type('BMI6018'))\n",
    "for letter in 'BMI6018':     # traversal of a string sequence(letter)\n",
    "    print(letter)\n",
    "\n",
    "    \n",
    "print()\n",
    "fruits = {'banana', 'apple',  'mango'}\n",
    "print('The type of fruit', type(fruits))\n",
    "for fruit in fruits:        # traversal of set sequence\n",
    "    print(fruit)\n",
    "\n",
    "print()   \n",
    "fruits = {1:'banana', 2:'apple',  3:'mango'}\n",
    "print('The type of fruit', type(fruits))\n",
    "for fruit in fruits.keys():        # traversal of set sequence\n",
    "    print(fruit, fruits[fruit])\n",
    "\n",
    "\n"
   ]
  },
  {
   "cell_type": "markdown",
   "metadata": {},
   "source": [
    "### Control sentences with loop sentences\n",
    "\n",
    "1. break sentence       \n",
    "    - Terminates the loop statement and transfers execution to the statement immediately following the loop.    \n",
    "2. continue sentence\n",
    "    - Causes the loop to skip the remainder of its body and immediately retest its condition prior to reiterating.    \n",
    "3. pass sentence\n",
    "    - The pass statement in Python is used when a statement is required syntactically but you do not want any command or code to execute.      "
   ]
  },
  {
   "cell_type": "code",
   "execution_count": null,
   "metadata": {},
   "outputs": [],
   "source": [
    "# Using break: It will print only 'banana'\n",
    "\n",
    "print()\n",
    "fruits = ['banana', 'apple',  'mango']\n",
    "print('The type of fruit', type(fruits))\n",
    "for fruit in fruits:  # traversal of set sequence\n",
    "    if (fruit=='apple'):\n",
    "        break\n",
    "    print(fruit)\n",
    "print('\\nGoodBye')"
   ]
  },
  {
   "cell_type": "code",
   "execution_count": null,
   "metadata": {},
   "outputs": [],
   "source": [
    "# Using break: It will print every list item except 'apple'\n",
    "\n",
    "print()\n",
    "fruits = ['banana', 'apple',  'mango']\n",
    "print('The type of fruit', type(fruits))\n",
    "for fruit in fruits:  # traversal of set sequence\n",
    "    if (fruit=='apple'):\n",
    "        continue\n",
    "    print(fruit)\n",
    "print('\\nGoodBye')"
   ]
  },
  {
   "cell_type": "code",
   "execution_count": null,
   "metadata": {},
   "outputs": [],
   "source": [
    "# Using break: It will print every list item and when 'apple' comes, it do nothing\n",
    "\n",
    "print()\n",
    "fruits = ['banana', 'apple',  'mango']\n",
    "print('The type of fruit', type(fruits))\n",
    "for fruit in fruits:  # traversal of set sequence\n",
    "    if (fruit=='apple'):\n",
    "        pass\n",
    "    print(fruit)\n",
    "print('\\nGoodBye')"
   ]
  },
  {
   "cell_type": "markdown",
   "metadata": {},
   "source": [
    "### Nested Loop\n",
    "\n",
    "<b> Loop(s) inside loop(s) </b>"
   ]
  },
  {
   "cell_type": "markdown",
   "metadata": {},
   "source": [
    "### [Examples from math (norms)](https://mathcs.clarku.edu/~ma130/inner1.pdf)\n",
    "\n",
    "\n",
    "<img src=\"./images/InnerProduct.png\" width=560 height=560 />\n",
    "\n"
   ]
  },
  {
   "cell_type": "code",
   "execution_count": null,
   "metadata": {},
   "outputs": [],
   "source": [
    "## Splitting a string input using ',' into a list to have a float list\n",
    "\n",
    "L= (input('A string with commas: ')).split(',')\n",
    "print(\"String items\",L)\n",
    "\n",
    "for index in range(len(L)):\n",
    "    L[index]=float(L[index])\n",
    "print(\"Float items\",L)"
   ]
  },
  {
   "cell_type": "code",
   "execution_count": null,
   "metadata": {},
   "outputs": [],
   "source": [
    "# Enter two lists to present vectors:\n",
    "\n",
    "L1= (input('A string with commas: ')).split(',')\n",
    "for index in range(len(L1)):\n",
    "    L1[index]=float(L1[index])\n",
    "\n",
    "L2= (input('A string with commas: ')).split(',')\n",
    "for index in range(len(L2)):\n",
    "    L2[index]=float(L2[index])\n",
    "\n",
    "innerProduct=0\n",
    "if (len(L1)==len(L2)):\n",
    "    for l1 in L1:\n",
    "        for l2 in L2:\n",
    "            innerProduct += l1*l2\n",
    "    print('Inner Product ', innerProduct)\n",
    "            "
   ]
  },
  {
   "cell_type": "markdown",
   "metadata": {},
   "source": [
    "## Loop with else\n",
    "\n",
    "for iterating_var in sequence:        \n",
    "&nbsp;&nbsp;&nbsp;&nbsp;statements(s)      \n",
    "else:       \n",
    "&nbsp;&nbsp;&nbsp;&nbsp;statements(s)       \n",
    "\n",
    "\n",
    "while expression:          \n",
    "&nbsp;&nbsp;&nbsp;&nbsp;statements(s)      \n",
    "else:       \n",
    "&nbsp;&nbsp;&nbsp;&nbsp;statements(s)\n"
   ]
  },
  {
   "cell_type": "code",
   "execution_count": null,
   "metadata": {},
   "outputs": [],
   "source": [
    "## Examples: for-loop\n",
    "\n",
    "first=int(input('Enter the first item to print:'))\n",
    "last=int(input('Enter the last item to print:'))\n",
    "\n",
    "for i in range(first,last):\n",
    "    print(i)\n",
    "else:\n",
    "    print('out of range')\n",
    "\n",
    "    "
   ]
  },
  {
   "cell_type": "code",
   "execution_count": null,
   "metadata": {},
   "outputs": [],
   "source": [
    "## Examples while-loop\n",
    "\n",
    "first=int(input('Enter the first item to print:'))\n",
    "last=int(input('Enter the last item to print:'))\n",
    "\n",
    "while (first < last):\n",
    "    print(first)\n",
    "    first +=1\n",
    "else:\n",
    "    print('out of range')\n"
   ]
  },
  {
   "cell_type": "markdown",
   "metadata": {},
   "source": [
    "## While-loop with flag\n",
    "\n",
    "\n",
    "<b> In while sentence, the while block is executed until the expression condition becomes false. </b>\n",
    "\n",
    "\n",
    "\n",
    "### Examples\n",
    "\n"
   ]
  },
  {
   "cell_type": "code",
   "execution_count": null,
   "metadata": {},
   "outputs": [],
   "source": [
    "# Enter from the keyboard positive numbers and check for each number if it is even or odd. Stop the progrom when you enter a negative number.\n",
    "\n",
    "while (True):\n",
    "    number= int(input('Enter a positive number, the program will halt when you enter a negative number:'))\n",
    "    if (number < 0):\n",
    "        break\n",
    "    else:\n",
    "        if (not(number % 2)):\n",
    "             print(\"%d is an even number\" %(number))\n",
    "        else:\n",
    "             print(\"%d is an odd number\" %(number))\n",
    "print('End of the program')\n",
    "            \n"
   ]
  },
  {
   "cell_type": "code",
   "execution_count": null,
   "metadata": {},
   "outputs": [],
   "source": [
    "## Using flag and else instead of true and flag\n",
    "\n",
    "# Enter from the keyboard positive numbers and check for each number if it is even or odd. Stop the progrom when you enter a negative number.\n",
    "\n",
    "flag = True\n",
    "while (flag):\n",
    "    number= int(input('Enter a positive number, the program will halt when you enter a negative number:'))\n",
    "    if (number < 0):\n",
    "        flag = False\n",
    "    else:\n",
    "        if (not(number % 2)):\n",
    "             print(\"%d is an even number\" %(number))\n",
    "        else:\n",
    "             print(\"%d is an odd number\" %(number))\n",
    "else:\n",
    "    print('End of the program')\n",
    "\n",
    "\n"
   ]
  },
  {
   "cell_type": "markdown",
   "metadata": {},
   "source": [
    "## [Palindrome Problem](https://en.wikipedia.org/wiki/Palindrome)\n",
    "\n",
    "<b> A palindrome is a word, number, phrase, or other sequence of characters which reads the same backward as forward, such as madam, racecar. </b>\n",
    "\n",
    "<img src=\"./images/Palindrome.png\" width=760 height=760 />\n"
   ]
  },
  {
   "cell_type": "code",
   "execution_count": null,
   "metadata": {},
   "outputs": [],
   "source": [
    "# Write a function to check if the string (s) is a palindrome or not.\n",
    "\n",
    "\"\"\"\n",
    "    # Run loop from 0 to len/2 \n",
    "    for i in range(0, int(len(str)/2)): \n",
    "        if str[i] != str[len(str)-i-1]:\n",
    "            return False\n",
    "    return True\n",
    "\n",
    "\"\"\"\n",
    "def ispalindrome(s):\n",
    "    for i in range(0, int(len(s)/2)): \n",
    "        if s[i] != s[len(s)-i-1]:\n",
    "            return False\n",
    "    return True\n",
    "\n",
    "s=input('Input a string  ')\n",
    "if (ispalindrome(s)):\n",
    "    print(\"%s is a palindorme string\" %(s))\n",
    "else:\n",
    "    print(\"%s is not a palindorme string\" %(s))"
   ]
  },
  {
   "cell_type": "code",
   "execution_count": null,
   "metadata": {},
   "outputs": [],
   "source": [
    "# Write a while loop that checks any input string if it is a palindrome or not until a sentinel string \"END\" is entered.\n",
    "\n",
    "\n",
    "def ispalindrome(s):\n",
    "    for i in range(0, int(len(s)/2)): \n",
    "        if s[i] != s[len(s)-i-1]:\n",
    "            return False\n",
    "    return True\n",
    "\n",
    "while (True):\n",
    "    s=input('Input a string  ')\n",
    "    if (s=='END'):\n",
    "        print('END of the program ')\n",
    "        break;\n",
    "    elif (ispalindrome(s)):\n",
    "        print(\"%s is a palindorme string\" %(s))\n",
    "    else:\n",
    "        print(\"%s is not a palindorme string\" %(s))\n",
    "        \n",
    "    "
   ]
  },
  {
   "cell_type": "markdown",
   "metadata": {},
   "source": [
    "## Functions  \n",
    "\n"
   ]
  },
  {
   "cell_type": "code",
   "execution_count": null,
   "metadata": {},
   "outputs": [],
   "source": [
    "# Example of the flow of execution\n",
    "\n",
    "helloWorld()\n",
    "\n",
    "def helloWorld():\n",
    "    print(\"Hello World\")"
   ]
  },
  {
   "cell_type": "markdown",
   "metadata": {},
   "source": [
    "## Passing parameters or arguments to the functions\n",
    "\n",
    "1. Positional arguments:\n",
    "    - Python matches each parameter in the function call with its position in the function definition.\n",
    "2. Keyword arguments:\n",
    "    - In the function call, you can name the parameter in the function definition with its value without caring of parameter order. \n",
    "3. Default arguments:\n",
    "    - In the function definition, you can set a default value to a parmater.\n",
    "\n"
   ]
  },
  {
   "cell_type": "code",
   "execution_count": null,
   "metadata": {},
   "outputs": [],
   "source": [
    "# Positional arguments\n",
    "\n",
    "def sumThreeNumbers(a,b,c):\n",
    "    print(\"a is %d, b is %d, and c is %d\"%(a,b,c))\n",
    "    return a+b+c\n",
    "\n",
    "s=sumThreeNumbers(1,3,4)\n",
    "print(\"The sum is %d\"%(s))"
   ]
  },
  {
   "cell_type": "code",
   "execution_count": null,
   "metadata": {},
   "outputs": [],
   "source": [
    "# Keyword arguments\n",
    "\n",
    "def sumThreeNumbers(a,b,c):\n",
    "    print(\"a is %d, b is %d, and c is %d\"%(a,b,c))\n",
    "    return a+b+c\n",
    "\n",
    "s=sumThreeNumbers(c=1,a=4,b=2)\n",
    "print(\"The sum is %d\"%(s))"
   ]
  },
  {
   "cell_type": "code",
   "execution_count": null,
   "metadata": {},
   "outputs": [],
   "source": [
    "# default arguments\n",
    "\n",
    "def sumThreeNumbers(b,c,a=3):\n",
    "    print(\"a is %d, b is %d, and c is %d\"%(a,b,c))\n",
    "    return a+b+c\n",
    "\n",
    "s=sumThreeNumbers(b=1,c=2)\n",
    "print(\"The sum is %d\"%(s))\n",
    "\n",
    "s=sumThreeNumbers(b=1,c=2,a=2)\n",
    "print(\"The sum is %d\"%(s))"
   ]
  },
  {
   "cell_type": "markdown",
   "metadata": {},
   "source": [
    "## *args and **kwargs in Python\n",
    "\n",
    "1. <b> *args </b> in the function definition arguments to pass a non-key worded, variable-length argument list. A good example is print function\n",
    "2. <b> **kwargs </b> in the function definition arguments to pass a keyworded, variable-length argument list.\n"
   ]
  },
  {
   "cell_type": "code",
   "execution_count": null,
   "metadata": {},
   "outputs": [],
   "source": [
    "# Example *args\n",
    "# Write a function to sum a group of numbers.\n",
    "\n",
    "def sumNumbers(*args):\n",
    "    sum=0\n",
    "    print(args)\n",
    "    print (\"The length of list is \"+str(len(args)))\n",
    "    for i in args:\n",
    "        sum +=i\n",
    "    return (sum)\n",
    "\n",
    "print(sumNumbers(1,3,-1))\n",
    "print()\n",
    "print(sumNumbers(1,3))\n",
    "\n"
   ]
  },
  {
   "cell_type": "code",
   "execution_count": null,
   "metadata": {},
   "outputs": [],
   "source": [
    "# Example *args and one more argument.\n",
    "# Write a function to sum a group of numbers.\n",
    "\n",
    "def sumNumbers(arg, *args):\n",
    "    sum=0\n",
    "    print(arg, args)\n",
    "    print (\"The length of list is \"+str(len(args)))\n",
    "    for i in args:\n",
    "        sum +=i\n",
    "    return (sum)\n",
    "\n",
    "print(sumNumbers(\"List of numbers is \", 1,3,-1))\n",
    "print()\n",
    "print(sumNumbers(\"List of numbers is\",1,3))\n"
   ]
  },
  {
   "cell_type": "code",
   "execution_count": null,
   "metadata": {},
   "outputs": [],
   "source": [
    "# Example *args and one more argument.\n",
    "# Write a function to sum a group of numbers.\n",
    "\n",
    "def sumNumbers(*args,arg):\n",
    "    sum=0\n",
    "    print(arg, args)\n",
    "    print (\"The length of list is \"+str(len(args)))\n",
    "    for i in args:\n",
    "        sum +=i\n",
    "    return (sum)\n",
    "\n",
    "print(sumNumbers(1,3,-1,\"List of numbers is \"))\n",
    "print()\n",
    "rint(sumNumbers(1,3,\"List of numbers is \"))"
   ]
  },
  {
   "cell_type": "code",
   "execution_count": null,
   "metadata": {},
   "outputs": [],
   "source": [
    "# Example *args and one more argument.\n",
    "# Write a function to sum a group of numbers.\n",
    "\n",
    "def sumNumbers(*args,arg):\n",
    "    sum=0\n",
    "    print(arg, args)\n",
    "    print (\"The length of list is \"+str(len(args)))\n",
    "    for i in args:\n",
    "        sum +=i\n",
    "    return (sum)\n",
    "\n",
    "print(sumNumbers(1,3,-1,arg=\"The list of numbers is \"))\n",
    "print()\n",
    "print(sumNumbers(1,3,arg=\"The list of numbers is \"))"
   ]
  },
  {
   "cell_type": "code",
   "execution_count": null,
   "metadata": {},
   "outputs": [],
   "source": [
    "# Example **kwargs.\n",
    "# Write a function to sum a group of numbers.\n",
    "\n",
    "def sumNumbers(**kwargs):\n",
    "    sum=0\n",
    "    print(kwargs)\n",
    "    print (\"The length of list is \"+str(len(kwargs)))\n",
    "    for i in kwargs.keys():\n",
    "        sum +=kwargs[i]\n",
    "    return (sum)\n",
    "\n",
    "print(sumNumbers(a=1,b=3,c=-1))\n",
    "print()\n",
    "print(sumNumbers(a=1,b=3))"
   ]
  },
  {
   "cell_type": "code",
   "execution_count": null,
   "metadata": {},
   "outputs": [],
   "source": [
    "# Example **kwargs and one more argument.\n",
    "# Write a function to sum a group of numbers.\n",
    "\n",
    "def sumNumbers(arg,**kwargs):\n",
    "    sum=0\n",
    "    print(arg, kwargs)\n",
    "    print (\"The length of list is \"+str(len(kwargs)))\n",
    "    for i in kwargs.keys():\n",
    "        sum +=kwargs[i]\n",
    "    return (sum)\n",
    "print(sumNumbers(\"The list of numbers is \",a=1,b=3,c=-1))\n",
    "print()\n",
    "print(sumNumbers(\"The list of numbers is \",a=1,b=3))"
   ]
  },
  {
   "cell_type": "code",
   "execution_count": null,
   "metadata": {},
   "outputs": [],
   "source": [
    "# Example **kwargs and one more argument.\n",
    "# Write a function to sum a group of numbers.\n",
    "\n",
    "def sumNumbers(**kwargs,arg):\n",
    "    sum=0\n",
    "    print(arg, kwargs)\n",
    "    print (\"The length of list is \"+str(len(kwargs)))\n",
    "    for i in kwargs.keys():\n",
    "        sum +=kwargs[i]\n",
    "    return (sum)\n",
    "print(sumNumbers(a=1,b=3,c=-1,\"The list of numbers is \"))\n",
    "print()\n",
    "print(sumNumbers(a=1,b=3,\"The list of numbers is \"))"
   ]
  },
  {
   "cell_type": "code",
   "execution_count": null,
   "metadata": {},
   "outputs": [],
   "source": []
  }
 ],
 "metadata": {
  "kernelspec": {
   "display_name": "Python 3",
   "language": "python",
   "name": "python3"
  },
  "language_info": {
   "codemirror_mode": {
    "name": "ipython",
    "version": 3
   },
   "file_extension": ".py",
   "mimetype": "text/x-python",
   "name": "python",
   "nbconvert_exporter": "python",
   "pygments_lexer": "ipython3",
   "version": "3.7.3"
  }
 },
 "nbformat": 4,
 "nbformat_minor": 2
}
