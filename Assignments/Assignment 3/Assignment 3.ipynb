{
 "cells": [
  {
   "cell_type": "markdown",
   "metadata": {},
   "source": [
    "## Assignment 3\n",
    "\n",
    "<b> Write your solutions in markdown, python code, and images/pdfs attached with your solutions' folder. In question 3, use expection handlers when needed. </b>\n",
    "\n",
    "\n",
    "Name:           \n",
    "ID:    "
   ]
  },
  {
   "cell_type": "markdown",
   "metadata": {},
   "source": [
    "## Question 1 (20 points)\n",
    "\n",
    "<b> For the code in the following cell, you are required to write: </b>      \n",
    "    1. The structure diagram of the code (5 points).\n",
    "    2. The execution flow sequences (what functions are running) at \n",
    "        1. line 11 at comment 1 (5 points)\n",
    "        2. line 8 at comment 2 (5 points)\n",
    "        3. line 5 at comment 3 (5 points)\n",
    "Inspiration from Think Python Book, 2nd Edition (Downey)"
   ]
  },
  {
   "cell_type": "code",
   "execution_count": 6,
   "metadata": {},
   "outputs": [
    {
     "name": "stdout",
     "output_type": "stream",
     "text": [
      "2 5\n",
      "25\n"
     ]
    }
   ],
   "source": [
    "def abc():\n",
    "    \n",
    "    def b(z):\n",
    "        prod=a(x,z)+1   \n",
    "        print(z,prod)  # --- (3)\n",
    "        return prod\n",
    "    def a(x,y):\n",
    "        x=x+1         # --- (2)\n",
    "        return x*y\n",
    "    def c(x,y,z):\n",
    "        total = x**y*z          # --- (1)\n",
    "        square = b(total-1)**2\n",
    "        return square\n",
    "    x=1\n",
    "    y=x+1\n",
    "    print(c(x,y+3,x+y))\n",
    "abc()\n",
    "    "
   ]
  },
  {
   "cell_type": "markdown",
   "metadata": {},
   "source": [
    "## Question 2  (20 points)\n",
    "\n",
    "<b> Python Program for Tower of Hanoi </b> \n",
    "\n",
    "1. You are required to understand and read/execute the code in [the link](https://www.geeksforgeeks.org/python-program-for-tower-of-hanoi/)        \n",
    "2. Write a recursive tree TowerOfHanoi(4,'A','B','C')  (10 points).\n",
    "3. Write a schematic stack diagram of TowerOfHanoi(4,'A','B','C')  (10 points)."
   ]
  },
  {
   "cell_type": "markdown",
   "metadata": {},
   "source": [
    "## Question 3  (20 points)\n",
    "\n",
    "<b> Write a program that do the following steps: </b>\n",
    "1. Open the file './randomStrings.txt' for reading only, name it myFile (1 point).      \n",
    "2. Read the lines of myFile into list (name it myList) (1 point).       \n",
    "2. Count the number of lines in myList and remove '\\n' from each line (1 point).      \n",
    "3. Count all substrings in all myList strings having 4 successive alphanumeric characters (5 points).        \n",
    "4. Remove all numeric and nonalpha characters from each myList string and save the new string in a new list name it myNewList (5 points).      \n",
    "5. Open a new file './newRandomStrings.txt' for writing, name it myNewFile (1 point).    \n",
    "6. Remove the character case (no lower/upper case) from each myNewList string and save/write it as a seperate line in myNewFile (5 points).     \n",
    "7. Close all files (1 point).    "
   ]
  },
  {
   "cell_type": "code",
   "execution_count": null,
   "metadata": {},
   "outputs": [],
   "source": []
  }
 ],
 "metadata": {
  "kernelspec": {
   "display_name": "Python 3",
   "language": "python",
   "name": "python3"
  },
  "language_info": {
   "codemirror_mode": {
    "name": "ipython",
    "version": 3
   },
   "file_extension": ".py",
   "mimetype": "text/x-python",
   "name": "python",
   "nbconvert_exporter": "python",
   "pygments_lexer": "ipython3",
   "version": "3.7.3"
  }
 },
 "nbformat": 4,
 "nbformat_minor": 2
}
