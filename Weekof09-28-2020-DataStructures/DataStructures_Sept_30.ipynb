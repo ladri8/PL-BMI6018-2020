{
 "cells": [
  {
   "cell_type": "markdown",
   "metadata": {},
   "source": [
    "## Objectives\n",
    "\n",
    "<b> This lecture is to practice on some problems that use lists, strings, and dictionary. We should know when do we need to use one or more sequence data types. </b>\n",
    "\n",
    "[More Excercises](https://www.w3resource.com/python-exercises/dictionary/)"
   ]
  },
  {
   "cell_type": "markdown",
   "metadata": {},
   "source": [
    "# Exercise 1"
   ]
  },
  {
   "cell_type": "markdown",
   "metadata": {},
   "source": [
    "<b> Given a list L, count the occurrence of each element in L and create a dictionary to show the count of each element. </b>"
   ]
  },
  {
   "cell_type": "code",
   "execution_count": null,
   "metadata": {
    "scrolled": true
   },
   "outputs": [],
   "source": [
    "countDict=dict()\n",
    "\n",
    "L=input('Enter A list of numbers: ').split(\",\")\n",
    "for item in L:\n",
    "    if (not(int(item) in countDict.keys())):\n",
    "        countDict[int(item)]=0\n",
    "    countDict[int(item)]+=1\n",
    "\n",
    "for key in countDict.keys():\n",
    "    print(key,countDict[key])\n",
    "        "
   ]
  },
  {
   "cell_type": "markdown",
   "metadata": {},
   "source": [
    "## Exercise 2: [Fibonacci Sequence](https://elearningindustry.com/fibonacci-sequence-what-is-and-how-applies-agile-development#:~:text=The%20Fibonacci%20sequence%20is%20a%20series%20of%20numbers%20where%20a,%2C%2021%2C%2034%2C%2055%E2%80%A6)\n",
    "\n",
    "<b> The Fibonacci Sequence </b> is a peculiar series of numbers from classical mathematics that has found applications in advanced mathematics, nature, statistics, and computer science.\n",
    "\n",
    "<b> The Fibonacci sequence is a series of numbers where a number is the addition of the last two numbers, starting with 0, and 1. <b>       \n",
    "\n",
    "\n",
    "<center > <b> The Fibonacci Sequence: </b> 0, 1, 1, 2, 3, 5, 8, 13, 21, 34, 55… </center>       \n",
    "\n",
    "<b> The math function: $x_{n}=x_{n-1}+x_{n-2}$ </b>   \n",
    "\n",
    "\n",
    "The below code from [this link](https://www.programiz.com/python-programming/examples/fibonacci-sequence)\n",
    "\n"
   ]
  },
  {
   "cell_type": "code",
   "execution_count": null,
   "metadata": {
    "scrolled": true
   },
   "outputs": [],
   "source": [
    "# Program to display the Fibonacci sequence up to n-th term\n",
    "\n",
    "nterms = int(input(\"How many terms? \"))\n",
    "\n",
    "# first two terms\n",
    "n1, n2 = 0, 1\n",
    "count = 0\n",
    "\n",
    "# check if the number of terms is valid\n",
    "if nterms <= 0:\n",
    "   print(\"Please enter a positive integer\")\n",
    "elif nterms == 1:\n",
    "   print(\"Fibonacci sequence upto\",nterms,\":\")\n",
    "   print(n1)\n",
    "else:\n",
    "   print(\"Fibonacci sequence:\")\n",
    "   while count < nterms:\n",
    "       print(n1)\n",
    "       nth = n1 + n2\n",
    "       # update values\n",
    "       n1 = n2\n",
    "       n2 = nth\n",
    "       count += 1"
   ]
  },
  {
   "cell_type": "markdown",
   "metadata": {},
   "source": [
    "## Excercise 3: Swaping two variables:\n"
   ]
  },
  {
   "cell_type": "code",
   "execution_count": null,
   "metadata": {
    "scrolled": true
   },
   "outputs": [],
   "source": [
    "# Python program to swap two variables with using a temporary variable\n",
    "\n",
    "x = 5\n",
    "y = 10\n",
    "\n",
    "# To take inputs from the user\n",
    "#x = input('Enter value of x: ')\n",
    "#y = input('Enter value of y: ')\n",
    "\n",
    "# create a temporary variable and swap the values\n",
    "temp = x\n",
    "x = y\n",
    "y = temp\n",
    "\n",
    "print('The value of x after swapping: {}'.format(x))\n",
    "print('The value of y after swapping: {}'.format(y))"
   ]
  },
  {
   "cell_type": "code",
   "execution_count": null,
   "metadata": {
    "scrolled": true
   },
   "outputs": [],
   "source": [
    "# Python program to swap two variables without using a temporary variable\n",
    "\n",
    "x = 5\n",
    "y = 10\n",
    "\n",
    "x, y = y, x\n",
    "print(\"x =\", x)\n",
    "print(\"y =\", y)"
   ]
  },
  {
   "cell_type": "markdown",
   "metadata": {},
   "source": [
    "## Excercise 4: A dictionary of functions:"
   ]
  },
  {
   "cell_type": "code",
   "execution_count": null,
   "metadata": {
    "scrolled": true
   },
   "outputs": [],
   "source": [
    "def printName(name):\n",
    "    if (str(name)):\n",
    "        return name\n",
    "    else:\n",
    "        return None\n",
    "    \n",
    "def printAge(age):\n",
    "      if (float(age)):\n",
    "        return age\n",
    "      else:\n",
    "        return None\n",
    "\n",
    "def printListofStrings(myList):\n",
    "    if (list(myList)):\n",
    "        return myList\n",
    "    else:\n",
    "        return None\n",
    "\n",
    "def printAMessage():\n",
    "    print(\"Hello World\")\n",
    "    \n",
    "Dict={1:printName, 2:printAge, 3:printListofStrings, 4:printAMessage}\n",
    "\n",
    "\n",
    "func_call=int(input('Select A function you need to call 1/printName, 2/printAge, 3/printListofStrings, 4/printAMessage'))\n",
    "\n",
    "if (func_call in Dict.keys()):\n",
    "    if (func_call == 1):\n",
    "        print(Dict[1]('Samir'))\n",
    "    elif (func_call == 2):\n",
    "        print(Dict[2]('40'))\n",
    "    elif (func_call == 3):\n",
    "        print(Dict[3]([1,5,6]))\n",
    "    else:\n",
    "        print(Dict[4])\n",
    "                \n"
   ]
  },
  {
   "cell_type": "markdown",
   "metadata": {},
   "source": [
    "# Excercise 5"
   ]
  },
  {
   "cell_type": "markdown",
   "metadata": {},
   "source": [
    "<b> Given a list of strings L, find out the minimum and the maximum lengths of the strings. Group the strings per their lengths and print for each length, the corresponding strengths. </b>"
   ]
  },
  {
   "cell_type": "code",
   "execution_count": null,
   "metadata": {
    "scrolled": true
   },
   "outputs": [],
   "source": [
    "L=input(\"Enter a list of strings seperated by commas: \").split(',')\n",
    "\n",
    "minCount=float('inf')\n",
    "maxCount=float('-inf')\n",
    "myDict=dict()\n",
    "\n",
    "for aString in L:\n",
    "    if (len(aString) < minCount):\n",
    "        minCount=len(aString)\n",
    "    if (len(aString) > maxCount):\n",
    "        maxCount=len(aString)\n",
    "    if not(len(aString) in myDict.keys()):\n",
    "        myDict[len(aString)] =[]\n",
    "    myDict[len(aString)].append(aString)\n",
    "    \n",
    "print(\"The minimum is {} and the maximum is {}\".format(minCount,maxCount))\n",
    "print(\"The groups of strings by len\", myDict)"
   ]
  }
 ],
 "metadata": {
  "kernelspec": {
   "display_name": "Python 3",
   "language": "python",
   "name": "python3"
  },
  "language_info": {
   "codemirror_mode": {
    "name": "ipython",
    "version": 3
   },
   "file_extension": ".py",
   "mimetype": "text/x-python",
   "name": "python",
   "nbconvert_exporter": "python",
   "pygments_lexer": "ipython3",
   "version": "3.7.3"
  }
 },
 "nbformat": 4,
 "nbformat_minor": 2
}
