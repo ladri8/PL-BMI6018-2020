{
 "cells": [
  {
   "cell_type": "markdown",
   "metadata": {},
   "source": [
    "## Trace the summation series:\n",
    "\n",
    "<img src=\"./images/Trace.jpg\" width=760 height=760 />\n",
    "\n"
   ]
  },
  {
   "cell_type": "markdown",
   "metadata": {},
   "source": [
    "## Integer, Float, Fractions     \n",
    "\n",
    "1. Integer: 3,5,..., etc. positive or negatives #in Math the set is  𝑍={…,−1,0,1,…} \n",
    "2. Float or real: 1.111, 2.5,...,etc. positives or negatives # in Math the set is  𝑅={−∞,…,0,…,∞}\n",
    "3. Decimal: is the same like Float but with specific precision.\n",
    "4. Fractions:  12,...,  positives or negatives # in Math the set symbol is  𝑄  and  𝑍⊆𝑄⊆𝑅 "
   ]
  },
  {
   "cell_type": "markdown",
   "metadata": {},
   "source": [
    "## Difference between a statement and an expression\n",
    "\n",
    "A statement is an instruction that the Python interpreter can execute. We have only seen the assignment statement so far. Some other kinds of statements that we’ll see shortly are while statements, for statements, if statements, and import statements.\n",
    "\n",
    "An expression is a combination of values, variables, operators, and calls to functions. Expressions need to be evaluated. If you ask Python to print an expression, the interpreter evaluates the expression and displays the result."
   ]
  },
  {
   "cell_type": "markdown",
   "metadata": {},
   "source": [
    "## [Operator precedence](https://www.programiz.com/python-programming/precedence-associativity)\n",
    "\n",
    "Operator precedence determines the grouping of terms in an expression and decides how an expression is evaluated. Certain operators have higher precedence than others; for example, the multiplication operator has a higher precedence than the addition operator.\n",
    "\n",
    "\n",
    "<img src=\"./images/precedence.png\" width=760 height=760 />"
   ]
  },
  {
   "cell_type": "code",
   "execution_count": 2,
   "metadata": {},
   "outputs": [
    {
     "name": "stdout",
     "output_type": "stream",
     "text": [
      "2.5 2 1\n"
     ]
    }
   ],
   "source": [
    "# example of division\n",
    "\n",
    "x1=5\n",
    "x2=2\n",
    "\n",
    "# 1.0\n",
    "print(x1/x2,x1//x2,x1%2)     \n",
    "\n",
    "#Modulus operator '%'  is 5/2= 2*2+1\n",
    "#Floor division operator '//'     is 5/2 =2.5 the floor of 2.5 is just 2                      "
   ]
  },
  {
   "cell_type": "code",
   "execution_count": null,
   "metadata": {},
   "outputs": [],
   "source": [
    "x1=9\n",
    "x2=4\n",
    "\n",
    "print(x1/x2,x1//x2,x1%2)"
   ]
  },
  {
   "cell_type": "code",
   "execution_count": 3,
   "metadata": {},
   "outputs": [
    {
     "name": "stdout",
     "output_type": "stream",
     "text": [
      "2.25 2.0 1.0\n"
     ]
    }
   ],
   "source": [
    "x1=9.0\n",
    "x2=4.0\n",
    "\n",
    "print(x1/x2,x1//x2,x1%2)"
   ]
  },
  {
   "cell_type": "code",
   "execution_count": 4,
   "metadata": {},
   "outputs": [
    {
     "name": "stdout",
     "output_type": "stream",
     "text": [
      "6561.0\n"
     ]
    }
   ],
   "source": [
    "print(x1**x2)"
   ]
  },
  {
   "cell_type": "code",
   "execution_count": 5,
   "metadata": {},
   "outputs": [
    {
     "name": "stdout",
     "output_type": "stream",
     "text": [
      "0.3333333333333333\n",
      "0.333\n"
     ]
    }
   ],
   "source": [
    "y=1/3\n",
    "print (y)\n",
    "\n",
    "#Let us use Decimal\n",
    "\n",
    "import decimal\n",
    "decimal.getcontext().prec=3\n",
    "y=decimal.Decimal(1)/ decimal.Decimal(3)\n",
    "print(y)"
   ]
  },
  {
   "cell_type": "code",
   "execution_count": 6,
   "metadata": {},
   "outputs": [
    {
     "name": "stdout",
     "output_type": "stream",
     "text": [
      "5/6\n"
     ]
    }
   ],
   "source": [
    "#Fractions\n",
    "\n",
    "\n",
    "from fractions import Fraction\n",
    "\n",
    "x=Fraction(1,3)\n",
    "y=Fraction(1,2)\n",
    "\n",
    "print(x+y)\n"
   ]
  },
  {
   "cell_type": "code",
   "execution_count": null,
   "metadata": {},
   "outputs": [],
   "source": [
    "#Converting floating number into its ratio\n",
    "\n",
    "(2.5).as_integer_ratio()"
   ]
  },
  {
   "cell_type": "markdown",
   "metadata": {},
   "source": [
    "### Examples for operator precedence\n",
    "\n",
    "<b> In the following expressions, list the order of operations and report the value of each expression </b>"
   ]
  },
  {
   "cell_type": "code",
   "execution_count": null,
   "metadata": {},
   "outputs": [],
   "source": [
    "#Operator precedence\n",
    "\n",
    "\"\"\"Explain the orders of operators and intermediate values in print(3+5*4**2)\n",
    "\n",
    "1. **  4**2=16 \n",
    "2. * 5*16=80\n",
    "3. + 3+80=83\n",
    "\n",
    "The expression value is 3+5*4**2=3+5*16=3+80=83\"\"\"\n",
    "\n",
    "print(3+5*4**2)"
   ]
  },
  {
   "cell_type": "code",
   "execution_count": null,
   "metadata": {},
   "outputs": [],
   "source": [
    "#Operator precedence\n",
    "\n",
    "\"\"\"Explain the orders of operators and intermediate values in print(3+(5*4)**2)\n",
    "\n",
    "1. * 5*4=20 3 +20**2\n",
    "2. ** 20**2 =400\n",
    "3. +3+400 = 304\n",
    "\n",
    "The expression value is 3+(5*4)**2=3+20**2=3+400=403\"\"\"\n",
    "\n",
    "print(3+(5*4)**2)\n"
   ]
  },
  {
   "cell_type": "code",
   "execution_count": 1,
   "metadata": {},
   "outputs": [
    {
     "name": "stdout",
     "output_type": "stream",
     "text": [
      "7\n",
      "7\n",
      "2\n",
      "12\n",
      "2\n",
      "4\n"
     ]
    }
   ],
   "source": [
    "#More examples\n",
    "\n",
    "print (3+5-1)\n",
    "print(3+(5-1))\n",
    "print(10 - 4 * 2)\n",
    "print((10-4)*2)\n",
    "print(10- (4*2))\n",
    "print(3--1)"
   ]
  },
  {
   "cell_type": "markdown",
   "metadata": {},
   "source": [
    "## Mixing Logical and numeric operators in one experssion\n",
    "\n",
    "<b> Keep in your mind that after evaluation of a numerical expression, python considers the expression true if it is its value != 0 otherwise, it is false. </b>"
   ]
  },
  {
   "cell_type": "code",
   "execution_count": 7,
   "metadata": {},
   "outputs": [
    {
     "name": "stdout",
     "output_type": "stream",
     "text": [
      "hi\n",
      "hi\n",
      "hi\n"
     ]
    }
   ],
   "source": [
    "if (3+1):\n",
    "    print('hi')\n",
    "\n",
    "# The above statements: is equivalent to\n",
    "\n",
    "if ((3+1) > 0 ):\n",
    "    print('hi')\n",
    "\n",
    "if (2-3):\n",
    "    print('hi')\n"
   ]
  },
  {
   "cell_type": "code",
   "execution_count": 8,
   "metadata": {},
   "outputs": [],
   "source": [
    "if (3-3):      \n",
    "    print('hi')\n",
    "\n",
    "# The above statements: is equivalent to\n",
    "\n",
    "if ((3-3)!=0 ):\n",
    "    print('hi')\n"
   ]
  },
  {
   "cell_type": "code",
   "execution_count": 9,
   "metadata": {},
   "outputs": [
    {
     "name": "stdout",
     "output_type": "stream",
     "text": [
      "hi\n",
      "hi\n"
     ]
    }
   ],
   "source": [
    "if not(3-3):    #It is like not zero is 1 \n",
    "    print('hi')\n",
    "\n",
    "# The above statements: is equivalent to\n",
    "\n",
    "if ((3-3)==0 ):\n",
    "    print('hi')\n"
   ]
  },
  {
   "cell_type": "code",
   "execution_count": 10,
   "metadata": {},
   "outputs": [
    {
     "name": "stdout",
     "output_type": "stream",
     "text": [
      "Hi\n"
     ]
    }
   ],
   "source": [
    "if ((3+5) or (2-2)):      # One of them should be true\n",
    "    print ('Hi')"
   ]
  },
  {
   "cell_type": "code",
   "execution_count": null,
   "metadata": {},
   "outputs": [],
   "source": [
    "if ((3+5) and (2-2)): # two of them should be true  if (8 or 0)\n",
    "    print ('Hi')"
   ]
  },
  {
   "cell_type": "code",
   "execution_count": 12,
   "metadata": {},
   "outputs": [
    {
     "name": "stdout",
     "output_type": "stream",
     "text": [
      "Enter the value of a: 0\n",
      "Enter the value of b: 1\n",
      "Enter the value of c: 70000000000\n"
     ]
    }
   ],
   "source": [
    "#What are the values of a, b, and c to print BMI6018\n",
    "\n",
    "a=int(input('Enter the value of a: '))\n",
    "b=int(input('Enter the value of b: '))\n",
    "c=int(input('Enter the value of c: '))\n",
    "\n",
    "if ((a+b > 5) and (c-b*a)>=6):\n",
    "    print('BMI6018')\n"
   ]
  },
  {
   "cell_type": "markdown",
   "metadata": {},
   "source": [
    "### Using the built-in functions and Math fucntions for type conversions and doing some calaculations\n",
    "\n",
    "### implicit and explicit type conversion."
   ]
  },
  {
   "cell_type": "code",
   "execution_count": 16,
   "metadata": {},
   "outputs": [
    {
     "name": "stdout",
     "output_type": "stream",
     "text": [
      "the length of L is3\n",
      "2.3\n"
     ]
    }
   ],
   "source": [
    "L=[1,3,5]\n",
    "\n",
    "print('the length of L is' + str(len(L)))  # Explicit using str funtion to convert integer to string\n",
    "x=1\n",
    "y=1.3+x  #Implicit without using any function\n",
    "\n",
    "print(y)"
   ]
  },
  {
   "cell_type": "code",
   "execution_count": 17,
   "metadata": {},
   "outputs": [
    {
     "name": "stdout",
     "output_type": "stream",
     "text": [
      "0.3333333333333333 0\n"
     ]
    }
   ],
   "source": [
    "\n",
    "from fractions import Fraction\n",
    "\n",
    "\n",
    "print(float(Fraction(1,3)),int(Fraction(1,3)))"
   ]
  },
  {
   "cell_type": "code",
   "execution_count": 19,
   "metadata": {},
   "outputs": [
    {
     "name": "stdout",
     "output_type": "stream",
     "text": [
      "4 3 -3 -4\n"
     ]
    }
   ],
   "source": [
    "import math\n",
    "#Ceiling and floor\n",
    "\n",
    "print(math.ceil(3.35), math.floor(3.5),math.ceil(-3.5), math.floor(-3.5))"
   ]
  },
  {
   "cell_type": "code",
   "execution_count": 21,
   "metadata": {},
   "outputs": [
    {
     "name": "stdout",
     "output_type": "stream",
     "text": [
      "False True\n",
      "False True\n",
      "False True\n"
     ]
    }
   ],
   "source": [
    "#Using bool() to check if the variable is empty or not\n",
    "print(bool([]),bool([1,2,3]))\n",
    "print(bool(''),bool('Hi'))\n",
    "print(bool(0),bool(1))"
   ]
  },
  {
   "cell_type": "markdown",
   "metadata": {},
   "source": [
    "## Assignment Discussion. "
   ]
  },
  {
   "cell_type": "code",
   "execution_count": null,
   "metadata": {},
   "outputs": [],
   "source": []
  }
 ],
 "metadata": {
  "kernelspec": {
   "display_name": "Python 3",
   "language": "python",
   "name": "python3"
  },
  "language_info": {
   "codemirror_mode": {
    "name": "ipython",
    "version": 3
   },
   "file_extension": ".py",
   "mimetype": "text/x-python",
   "name": "python",
   "nbconvert_exporter": "python",
   "pygments_lexer": "ipython3",
   "version": "3.7.3"
  }
 },
 "nbformat": 4,
 "nbformat_minor": 2
}
