{
 "cells": [
  {
   "cell_type": "markdown",
   "metadata": {},
   "source": [
    "## Number Systems\n",
    "\n",
    "Numbers could have any of the form of <b><u> decimal </u> <b>, <b><u> binary </u> <b> , <b><u> octal </u> <b>, or <b><u> hexadecimal </u> <b>       \n",
    "\n",
    "<img src=\"./images/Numbers.png\" width=760 height=760 />"
   ]
  },
  {
   "cell_type": "markdown",
   "metadata": {},
   "source": [
    "<b> Why do we need binary, octal, or hexadecimal systems? </b>    \n",
    "\n",
    "1. Computers work in binaries.     \n",
    "2. Some encoding and decoding encryption systems use these systems to hide orginal decimal numbers.     \n",
    "3. Colors are encoded better using hexadecimal.       \n",
    "4. Octal has less number of digits than decimal and octal."
   ]
  },
  {
   "cell_type": "markdown",
   "metadata": {},
   "source": [
    "### [Convert from decimal to binary](https://www.tutorialspoint.com/how-to-convert-decimal-to-binary)\n",
    "\n",
    "\n",
    "1. Performing Short Division by Two with Remainder.   \n",
    "    - Take decimal number as dividend.        \n",
    "    - Divide this number by 2 (2 is base of binary so divisor here).    \n",
    "    - Store the remainder in an array (it will be either 0 or 1 because of divisor 2).     \n",
    "    - Repeat the above two steps until the number is greater than zero.     \n",
    "    - Print the array in reverse order (which will be equivalent binary number of given decimal number)\n",
    "2. Descending Powers of Two and Subtraction."
   ]
  },
  {
   "cell_type": "markdown",
   "metadata": {},
   "source": [
    "### Convert from decimal to binary (Performing Short Division by Two with Remainder)\n",
    "\n",
    "<img src=\"./images/DecimaltoBinary.png\" width=760 height=760 />"
   ]
  },
  {
   "cell_type": "markdown",
   "metadata": {},
   "source": [
    "### Convert from decimal to binary     \n",
    "\n",
    "<img src=\"./images/BinarytoDecimal.png\" width=760 height=760 />"
   ]
  },
  {
   "cell_type": "markdown",
   "metadata": {},
   "source": [
    "##### For conversion from decimal to octal and hexadecimal and vice versa with 8 and 16 instead of 2 in the above respectively.\n",
    "\n",
    "##### If you devide by 2, the maximum reminder is 1 -- what about 8 and 16?\n",
    "\n",
    "Study this [youtube](https://www.youtube.com/watch?v=L2zsmYaI5ww) \n"
   ]
  },
  {
   "cell_type": "code",
   "execution_count": null,
   "metadata": {},
   "outputs": [],
   "source": [
    "#print the binary, octal, and hexadecimal of 75\n",
    "\n",
    "print(bin(75),oct(75), hex(75))"
   ]
  },
  {
   "cell_type": "code",
   "execution_count": null,
   "metadata": {},
   "outputs": [],
   "source": [
    "#print the decimal number that is equivelant to 0b1001011 0o113 0x4b\n",
    "\n",
    "print(0b1001011,0o113,0x4b)"
   ]
  },
  {
   "cell_type": "code",
   "execution_count": null,
   "metadata": {},
   "outputs": [],
   "source": [
    "# Using int or eval methods to convert bin/octal/hexa to decimal\n",
    "\n",
    "print(int('0b1001011',2), int('0o113',8), int('0x4b', 16))\n",
    "print(eval('0b1001011'), eval('0o113'), eval('0x4b'))"
   ]
  },
  {
   "cell_type": "markdown",
   "metadata": {},
   "source": [
    "### What is the difference between logical and arithmetic operators ?"
   ]
  },
  {
   "cell_type": "markdown",
   "metadata": {},
   "source": [
    "## [The truth tables](https://en.wikipedia.org/wiki/Truth_table)\n",
    "\n",
    "<b> Assume $P$ and $Q$ is two boolean conditions that are evaluted as T/True/1 or F/False/0 </b>      \n",
    "<b> Let us see the truth tables of some python logical operators (or, and, not, xor) -- each table contains 2**2 = 4 rows </b> \n",
    "<b> You can test a single condition or a compound condition (an expression of more than one condition joined with logical operators). </b>\n",
    "\n",
    "1. not (condition): Is the negation of the condition.      \n",
    "2. OR: One condition is true to have a compound condition true; otherwise a compound condition is false.   \n",
    "3. AND: All conditions are true to have a compound condition true; otherwise a compound condition is false.\n",
    "4. XOR/^: The conditions should differ in their truth values to have a compound condition true;otherwise a compound condition false.\n",
    "\n",
    "\n",
    "\n",
    "| $P$ | $Q$ |not($P$)| not($Q$)|$P$ or $Q$|$P$ and $Q$|$P$ ^ $Q$|         \n",
    "| :-|:- | :-| :-|:- | :-|:-\n",
    "|$T$|$T$|$F$|$F$|$T$|$T$|$F$|      \n",
    "|$T$|$F$|$F$|$T$|$T$|$F$|$T$|     \n",
    "|$F$|$T$|$T$|$F$|$T$|$F$|$T$|\n",
    "|$F$|$F$|$T$|$T$|$F$|$F$|$F$|"
   ]
  },
  {
   "cell_type": "code",
   "execution_count": null,
   "metadata": {},
   "outputs": [],
   "source": [
    "A=1\n",
    "B=-1\n",
    "C=10\n",
    "\n",
    "print((A>B) or (A>C),(A>B) and (A>C), (A>B)^(A>C))\n",
    "print(not((A>B) or (A>C)),not((A>B) and (A>C)), not((A>B)^(A>C)))"
   ]
  },
  {
   "cell_type": "code",
   "execution_count": null,
   "metadata": {},
   "outputs": [],
   "source": [
    "A=1\n",
    "B=-1\n",
    "C=10\n",
    "\n",
    "P=(A>B) or (A>C)\n",
    "Q=(A>B) and (A>C)\n",
    "R=(A>B)^(A>C)\n",
    "\n",
    "print (P,Q,R)\n"
   ]
  },
  {
   "cell_type": "markdown",
   "metadata": {},
   "source": [
    "## If-statement\n",
    "\n",
    "### Basic if-statement\n",
    "\n",
    "\n",
    "<font color='blue'>  always_executed_statement(s)  </font>   \n",
    "if condition(s):     \n",
    "&nbsp;&nbsp;&nbsp;&nbsp;statementA(s)      \n",
    "<font color='blue'>  always_executed_statement(s)  </font>\n",
    "\n",
    "-------------------------    \n",
    "\n",
    "\n",
    "\n",
    "<font color='blue'>  always_executed_statement(s)  </font>          \n",
    "if condition(s):      \n",
    "&nbsp;&nbsp;&nbsp;&nbsp;statementA(s)      \n",
    "else:       \n",
    "&nbsp;&nbsp;&nbsp;&nbsp;statementB(s)        \n",
    "<font color='blue'>  always_executed_statement(s)  </font>\n",
    "\n",
    "-------------------------    \n",
    "-------------------------    \n",
    "\n",
    "\n",
    "### Multiway branching       \n",
    "\n",
    "\n",
    "<font color='blue'>  always_executed_statement(s)  </font>          \n",
    "if condition(s):      \n",
    "&nbsp;&nbsp;&nbsp;&nbsp;statementA(s)      \n",
    "elif another_condition(s):       \n",
    "&nbsp;&nbsp;&nbsp;&nbsp;statementB(s)        \n",
    "else:       \n",
    "&nbsp;&nbsp;&nbsp;&nbsp;statementC(s)     \n",
    "<font color='blue'>  always_executed_statement(s)  </font>   \n",
    "\n",
    "\n",
    "-------------------------    \n",
    "-------------------------\n",
    "\n",
    "\n",
    "### Inline if-statement\n",
    "\n",
    "<font color='blue'>  always_executed_statement(s)  </font>      \n",
    "statementA if condition(s) else statementB \n",
    "\n"
   ]
  },
  {
   "cell_type": "markdown",
   "metadata": {},
   "source": [
    "## Example (Multiway branching)\n",
    "\n",
    "\n",
    "You are required to enter the score of a student and print the grade letter based on the follwoing table:\n",
    "\n",
    "|Letter |Scoring|         \n",
    "|:---|:---| \n",
    "|A |100%-94%|\n",
    "|A-|93.9%-90%|\n",
    "|B+|89.9%–87%|\n",
    "|B |86.9%–84%|\n",
    "|B-|83.9%-80%|\n",
    "|C+|79.9%–77%|\n",
    "|C |76.9%–74%|\n",
    "|C-|73.9%-70%|\n",
    "|D+|69.9%–67%|\n",
    "|D |66.9%–64%|\n",
    "|D-|63.9%-60%|\n",
    "|E |59.9%–0%|\n"
   ]
  },
  {
   "cell_type": "code",
   "execution_count": null,
   "metadata": {},
   "outputs": [],
   "source": [
    "#Solution\n",
    "\n",
    "score=float(input(\"Enter the score of the student: \"))\n",
    "\n",
    "if (score >= 94):\n",
    "    print ('A')\n",
    "elif (score >= 90):\n",
    "    print ('A-')\n",
    "elif (score >= 87):\n",
    "    print ('B+')\n",
    "elif (score >= 84):\n",
    "    print ('B')\n",
    "elif (score >= 77):\n",
    "    print ('C+')\n",
    "elif (score >= 74):\n",
    "    print ('C')   \n",
    "elif (score >= 70):\n",
    "    print ('C-')  \n",
    "elif (score >= 67):\n",
    "    print ('C-')   \n",
    "elif (score >= 64):\n",
    "    print ('D')   \n",
    "elif (score >= 60):\n",
    "    print ('D-')\n",
    "else:\n",
    "    print ('E')"
   ]
  },
  {
   "cell_type": "markdown",
   "metadata": {},
   "source": [
    "Let us discuss the following what-if scenarios:    \n",
    "1. What do you think if we changed all >= to <?       \n",
    "2. What if I need to start with E grade instead of A?      \n",
    "\n",
    "What do we mean by short-circuiting condition evaluation?"
   ]
  },
  {
   "cell_type": "markdown",
   "metadata": {},
   "source": [
    "### [Assert Statement](https://www.programiz.com/python-programming/assert-statement) \n",
    "\n",
    "\n",
    "1. Assertions are the condition or boolean expression which are always supposed to be true in the code.    \n",
    "2. Assert statement takes an expression and optional message.    \n",
    "3. Assert statement is used to check types, values of argument and the output of the function.   (Semantic Checks) \n",
    "4. Assert statement is used as debugging tool as it halts the program at the point where an error occurs.\n",
    "\n",
    "\n",
    "See the below Figure:\n",
    "\n",
    "<img src=\"./images/Assertion.png\" width=760 height=760 />\n",
    "\n",
    "\n",
    "Syntax:       \n",
    "assert condition,error message\n"
   ]
  },
  {
   "cell_type": "code",
   "execution_count": null,
   "metadata": {},
   "outputs": [],
   "source": [
    "# assertion to avoid deviding by Zero.\n",
    "\n",
    "A=int(input(\"Enter a value of a \"))\n",
    "B=int(input(\"Enter a value of B \"))\n",
    "\n",
    "assert (B!=0), 'No Division by Zero'  # Pre-condition \n",
    "print(A/B)\n",
    "assert (A/B < 0), 'A should be less than or equal to B'  # Post-condition \n",
    "    "
   ]
  },
  {
   "cell_type": "code",
   "execution_count": null,
   "metadata": {},
   "outputs": [],
   "source": [
    "#Inline if-statement\n",
    "\n",
    "A=5\n",
    "B=4\n",
    "\n",
    "x= 3 if A <= B else 2\n",
    "print(x)"
   ]
  },
  {
   "cell_type": "code",
   "execution_count": null,
   "metadata": {},
   "outputs": [],
   "source": [
    "#Inline if-statement\n",
    "\n",
    "A=5\n",
    "B=4\n",
    "print(3 if A <= B else 2)"
   ]
  },
  {
   "cell_type": "code",
   "execution_count": null,
   "metadata": {},
   "outputs": [],
   "source": []
  }
 ],
 "metadata": {
  "kernelspec": {
   "display_name": "Python 3",
   "language": "python",
   "name": "python3"
  },
  "language_info": {
   "codemirror_mode": {
    "name": "ipython",
    "version": 3
   },
   "file_extension": ".py",
   "mimetype": "text/x-python",
   "name": "python",
   "nbconvert_exporter": "python",
   "pygments_lexer": "ipython3",
   "version": "3.7.3"
  }
 },
 "nbformat": 4,
 "nbformat_minor": 2
}
