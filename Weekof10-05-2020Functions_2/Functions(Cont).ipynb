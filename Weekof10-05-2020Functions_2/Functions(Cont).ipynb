{
 "cells": [
  {
   "cell_type": "markdown",
   "metadata": {},
   "source": [
    "## Study Materials\n",
    "\n",
    "1. Function chapters in syllabus books.\n",
    "2. [Website](https://www.datacamp.com/community/tutorials/scope-of-variables-python)\n",
    "3. All links in this notebook."
   ]
  },
  {
   "cell_type": "markdown",
   "metadata": {},
   "source": [
    "## [Python Lambda(Anonymous)](https://www.programiz.com/python-programming/anonymous-function)           \n",
    "\n",
    "<b>   \n",
    "    \n",
    "1. A lambda function is a small anonymous function.              \n",
    "2. A lambda function can take any number of arguments, but can only have one expression.  \n",
    "\n",
    "</b>\n",
    "\n",
    "<b> [Syntax:](https://www.w3schools.com/python/python_lambda.asp) </b>   lambda arguments : expression"
   ]
  },
  {
   "cell_type": "code",
   "execution_count": null,
   "metadata": {},
   "outputs": [],
   "source": [
    "x = lambda a : a + 10\n",
    "print(x(5))"
   ]
  },
  {
   "cell_type": "code",
   "execution_count": null,
   "metadata": {},
   "outputs": [],
   "source": [
    "x = lambda a, b, c : a + b + c\n",
    "print(x(5, 6, 2))"
   ]
  },
  {
   "cell_type": "code",
   "execution_count": null,
   "metadata": {},
   "outputs": [],
   "source": [
    "def myfunc(n):\n",
    "  return lambda a : a * n\n",
    "\n",
    "mydoubler = myfunc(2)\n",
    "\n",
    "print(mydoubler(11))\n",
    "print(mydoubler(5))"
   ]
  },
  {
   "cell_type": "markdown",
   "metadata": {},
   "source": [
    "## [Iteratables](https://yasoob.me/2013/09/29/the-python-yield-keyword-explained/)"
   ]
  },
  {
   "cell_type": "code",
   "execution_count": null,
   "metadata": {},
   "outputs": [],
   "source": [
    "mylist = [1, 2, 3]\n",
    "for i in mylist:\n",
    "    print(i)"
   ]
  },
  {
   "cell_type": "code",
   "execution_count": null,
   "metadata": {},
   "outputs": [],
   "source": [
    "mylist = [x*x for x in range(3)]\n",
    "for i in mylist:\n",
    "    print(i)"
   ]
  },
  {
   "cell_type": "markdown",
   "metadata": {},
   "source": [
    "## Generators\n",
    "\n",
    "Generators are iterators, but you can only iterate over them once. It’s because they do not store all the values in memory, they generate the values on the fly."
   ]
  },
  {
   "cell_type": "code",
   "execution_count": null,
   "metadata": {},
   "outputs": [],
   "source": [
    "mygenerator = (x*x for x in range(3))\n",
    "for i in mygenerator:\n",
    "    print(i)\n"
   ]
  },
  {
   "cell_type": "markdown",
   "metadata": {},
   "source": [
    "## Yield\n",
    "\n",
    "When you call the function, the code you have written in the function body does not run. The function only returns the generator object."
   ]
  },
  {
   "cell_type": "code",
   "execution_count": null,
   "metadata": {},
   "outputs": [],
   "source": [
    "def createGenerator():\n",
    "    mylist = range(3)\n",
    "    for i in mylist:\n",
    "        yield i*i\n",
    "\n",
    "mygenerator = createGenerator()  # create a generator\n",
    "print(mygenerator) # mygenerator is an object!\n",
    "for i in mygenerator:\n",
    "    print(i)"
   ]
  },
  {
   "attachments": {
    "image.png": {
     "image/png": "[encoded data removed]"
    }
   },
   "cell_type": "markdown",
   "metadata": {},
   "source": [
    "## [Scope & Lifetime](https://www.youtube.com/watch?v=CcgOrctyByg)\n",
    "\n",
    "\n",
    "<b> The variable scope: is the region in which the variable is created and available. </b>\n",
    "\n",
    "<b> The lifetime of a variable is the period throughout which the variable exits. </b>\n",
    "\n",
    "### LEGB (Local -> Enclosing -> Global -> Built-in)\n",
    "\n",
    "![image.png](attachment:image.png)\n"
   ]
  },
  {
   "cell_type": "markdown",
   "metadata": {},
   "source": [
    "## Local, nonlocal (enclosing), and global scope\n",
    "\n",
    "<b> The variables are defined inside a function are local variables. </b>     \n",
    "\n",
    "<b> The variables are defined inside a function but outer of nested functions are nonlocal variables. </b>\n",
    "\n",
    "<b> The variables are defined in the main program are global variables. </b>\n",
    "    "
   ]
  },
  {
   "cell_type": "markdown",
   "metadata": {},
   "source": [
    "## [Nested Functions](https://www.programiz.com/python-programming/closure)"
   ]
  },
  {
   "cell_type": "code",
   "execution_count": null,
   "metadata": {},
   "outputs": [],
   "source": [
    "def parent_1():\n",
    "    p_1=3\n",
    "    #print_2()\n",
    "    print(\"p_1= %d\"%(p_1))\n",
    "    def child_1():\n",
    "        ch_1=2\n",
    "        child_2()\n",
    "        print(\"ch_1= %d, p1_1= %d\"%(ch_1,p_1))\n",
    "        \n",
    "    def child_2():\n",
    "        ch_2=2\n",
    "        #child_1()\n",
    "        print(\"ch_2= %d, p1_1= %d\"%(ch_2,p_1))\n",
    "    child_1()\n",
    "    #child_2()\n",
    "\n",
    "def parent_2():\n",
    "    print(\"I am in parent_2\")\n",
    "\n",
    "parent_1()"
   ]
  },
  {
   "cell_type": "code",
   "execution_count": null,
   "metadata": {},
   "outputs": [],
   "source": [
    "def print_number():\n",
    "    first_number = 1            #local variable\n",
    "    # Print statement 1\n",
    "    print(\"The first number defined is: \", first_number)\n",
    "\n",
    "print_number()\n",
    "# Print statement 2\n",
    "print(\"The first number defined is: \", first_number)     #We cann't use local variable"
   ]
  },
  {
   "cell_type": "code",
   "execution_count": null,
   "metadata": {},
   "outputs": [],
   "source": [
    "#Adding a global variable\n",
    "\n",
    "first_number = 3\n",
    "def print_number():\n",
    "    first_number = 1            #local variable\n",
    "    # Print statement 1\n",
    "    print(\"The first number defined is: \", first_number)\n",
    "\n",
    "print_number()\n",
    "# Print statement 2\n",
    "print(\"The first number defined is: \", first_number)     #We use global variable"
   ]
  },
  {
   "cell_type": "code",
   "execution_count": null,
   "metadata": {},
   "outputs": [],
   "source": [
    "#Nested functions & globals\n",
    "\n",
    "first_number = 3\n",
    "def print_number():\n",
    "    first_number = 1  #local variable\n",
    "    def print_number_inside():\n",
    "        second_number=first_number+1   #first_number is nonlocal and second_number is local for print_number_inside()\n",
    "        print(\"The second number %d and the first_number %d : \"%(second_number,first_number))\n",
    "    # Print statement 1\n",
    "    print(\"The first number defined is: \", first_number)\n",
    "    print_number_inside()\n",
    "\n",
    "print_number()\n",
    "# Print statement 2\n",
    "print(\"The first number defined is: \", first_number)     #We use global variable"
   ]
  },
  {
   "cell_type": "markdown",
   "metadata": {},
   "source": [
    "## Global Keyword"
   ]
  },
  {
   "cell_type": "code",
   "execution_count": null,
   "metadata": {},
   "outputs": [],
   "source": [
    "greeting = \"Hello\"\n",
    "\n",
    "def change_greeting(new_greeting):\n",
    "    global greeting\n",
    "    greeting = new_greeting\n",
    "\n",
    "def greeting_world():\n",
    "    world = \"World\"\n",
    "    print(greeting, world)\n",
    "\n",
    "change_greeting(\"Hi\")\n",
    "greeting_world()"
   ]
  },
  {
   "cell_type": "markdown",
   "metadata": {},
   "source": [
    "## Nonlocal Keyword"
   ]
  },
  {
   "cell_type": "code",
   "execution_count": null,
   "metadata": {},
   "outputs": [],
   "source": [
    "def outer():\n",
    "    first_num = 1\n",
    "    def inner():\n",
    "        nonlocal first_num\n",
    "        first_num = 0\n",
    "        second_num = 1\n",
    "        print(\"inner - second_num is: \", second_num)\n",
    "    inner()\n",
    "    print(\"outer - first_num is: \", first_num)\n",
    "\n",
    "outer()"
   ]
  },
  {
   "cell_type": "markdown",
   "metadata": {},
   "source": [
    "## [Closures](https://www.learnpython.org/en/Closures)\n",
    "\n",
    "<b> A closure is a nested function which has access to a free variable from an enclosing function that has finished its execution. Three characteristics of a Python closure are: </b>       \n",
    "\n",
    "1. It is a nested function.\n",
    "2. It has access to a free variable in outer scope.\n",
    "3. It is returned from the enclosing function.     \n",
    "\n",
    "\n",
    "A free variable is a variable that is not bound in the local scope. In order for closures to work with immutable variables such as numbers and strings, we have to use the nonlocal keyword. Python closures help avoiding the usage of global values and provide some form of data hiding[1](http://zetcode.com/python/python-closures/).  "
   ]
  },
  {
   "cell_type": "code",
   "execution_count": null,
   "metadata": {},
   "outputs": [],
   "source": [
    "def make_counts(count):\n",
    "\n",
    "    count +=1\n",
    "\n",
    "    def counts(myC):\n",
    "        myC +=count\n",
    "        print(count,myC)\n",
    "\n",
    "    return counts\n",
    "\n",
    "\n",
    "mycounts =  make_counts(3)\n",
    "mycounts(2)\n",
    "mycounts(2)\n",
    "mycounts(2)"
   ]
  },
  {
   "cell_type": "code",
   "execution_count": null,
   "metadata": {},
   "outputs": [],
   "source": []
  }
 ],
 "metadata": {
  "kernelspec": {
   "display_name": "Python 3",
   "language": "python",
   "name": "python3"
  },
  "language_info": {
   "codemirror_mode": {
    "name": "ipython",
    "version": 3
   },
   "file_extension": ".py",
   "mimetype": "text/x-python",
   "name": "python",
   "nbconvert_exporter": "python",
   "pygments_lexer": "ipython3",
   "version": "3.7.3"
  }
 },
 "nbformat": 4,
 "nbformat_minor": 2
}
