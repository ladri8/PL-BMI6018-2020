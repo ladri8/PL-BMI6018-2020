{
 "cells": [
  {
   "cell_type": "markdown",
   "metadata": {},
   "source": [
    "## Instructions:\n",
    "\n",
    "1. This lecture is to introduce a crash course to skim through the most important commands in python.\n",
    "2. In all below cells, please don't naviigate the web links in the lecture. We will cover all these topics and web links in the future lectures."
   ]
  },
  {
   "cell_type": "markdown",
   "metadata": {},
   "source": [
    "## Two main tips in python programming\n",
    "\n",
    "1. Python loves white spaces.\n",
    "2. Python loves indentation spaces to present blocks. Other languages may use {} to present blocks."
   ]
  },
  {
   "cell_type": "markdown",
   "metadata": {},
   "source": [
    "## Two main tipes in Jupyter notebook\n",
    "\n",
    "1. If your define a variable in one cell, then it should be visible in all its all below cells (it uses python visibility and scope).\n",
    "2. If you refesh or close the notebook, then you need to rerun the cell from the begining of the notebook."
   ]
  },
  {
   "cell_type": "markdown",
   "metadata": {},
   "source": [
    "## Comments\n",
    "\n",
    "<b> The comment is a line that the programmer inserts in the code for illustrations, but the compiler ignores it. </b>\n",
    "\n",
    "### Single-line comment\n",
    "\n",
    "Single-line comments in Python begin with a hash mark (#) and whitespace character (optional) and continue to the end of the line.\n",
    "\n",
    "### Multiple-line comment\n",
    "\n",
    "Multiple-line comments in Python begin with three-quotation mark (\"\"\") and whitespace character (optional) and continue to be in multiple lines and end with three-quotation mark (\"\"\")."
   ]
  },
  {
   "cell_type": "code",
   "execution_count": null,
   "metadata": {},
   "outputs": [],
   "source": [
    "#This is a single-line comment\n",
    "#The following command is to print a greeting sentence.\n",
    "print (\"Hello, World\")"
   ]
  },
  {
   "cell_type": "code",
   "execution_count": null,
   "metadata": {},
   "outputs": [],
   "source": [
    "\"\"\"\n",
    "This is a comment\n",
    "written in\n",
    "more than just one line\n",
    "\"\"\"\n",
    "print(\"Hello, World!\")"
   ]
  },
  {
   "cell_type": "code",
   "execution_count": null,
   "metadata": {},
   "outputs": [],
   "source": [
    "#Let us make a syntax error using multiple-line comment"
   ]
  },
  {
   "cell_type": "markdown",
   "metadata": {},
   "source": [
    "## [Experssions] (https://docs.python.org/3/reference/expressions.html)\n",
    "\n",
    "<b> An experssion is a piece of python sentense/statement that consists of literals (numbers, alphabits, alphanumeric, and strings) and identifiers or variables. </b>     \n",
    "\n",
    "Expersions could be arithmetic, logical, or any data type operations. "
   ]
  },
  {
   "cell_type": "markdown",
   "metadata": {},
   "source": [
    "## [Variables:](https://thehelloworldprogram.com/python/python-variable-assignment-statements-rules-conventions-naming/)\n",
    "\n",
    "<b> Variables or identifiers are containers for storing data values -- Each variable has a name and an object/container (address to memmory location)</b>\n",
    "\n",
    "### Conventions of Python Variables:\n",
    "\n",
    "1. Variables are created when they are first assigned values.\n",
    "2. Variables are replaced with their values when used in expressions.\n",
    "3. Variables must be assigned before they can be used in experssions.\n",
    "4. Variables refer to objects and are never declared ahead of time. \n",
    "    - What is an object or a class?\n",
    "    - Examples of objects and classes?\n",
    "\n",
    "\n",
    "\n",
    "### Conventions of Variable Names:\n",
    "\n",
    "1. A variable name must start with a letter or the underscore character\n",
    "2. A variable name cannot start with a number\n",
    "3. A variable name can only contain alpha-numeric characters and underscores (A-z, 0-9, and _ )\n",
    "4. Variable names are case-sensitive (sal, SAL and SaL are three different variables)"
   ]
  },
  {
   "cell_type": "code",
   "execution_count": null,
   "metadata": {},
   "outputs": [],
   "source": [
    "#This is the variable with an assignment statement: The variable name is x and the names points to a memory location has 5 as an object \n",
    "x=5"
   ]
  },
  {
   "cell_type": "code",
   "execution_count": null,
   "metadata": {},
   "outputs": [],
   "source": [
    "a=3 \n",
    "b=4"
   ]
  },
  {
   "cell_type": "code",
   "execution_count": null,
   "metadata": {},
   "outputs": [],
   "source": [
    "#Can I print A? Why?\n",
    "print (A)"
   ]
  },
  {
   "cell_type": "code",
   "execution_count": null,
   "metadata": {},
   "outputs": [],
   "source": [
    "#a+1 and b+4 are two arthematic expression\n",
    "\n",
    "a+1,b+4"
   ]
  },
  {
   "cell_type": "code",
   "execution_count": null,
   "metadata": {},
   "outputs": [],
   "source": [
    "2+a, 6+b"
   ]
  },
  {
   "cell_type": "code",
   "execution_count": null,
   "metadata": {},
   "outputs": [],
   "source": [
    "print (a,b)"
   ]
  },
  {
   "cell_type": "code",
   "execution_count": null,
   "metadata": {},
   "outputs": [],
   "source": [
    "print (c)"
   ]
  },
  {
   "cell_type": "code",
   "execution_count": null,
   "metadata": {},
   "outputs": [],
   "source": [
    "# Is there any output from this cell, why?\n",
    "a=\"Class\""
   ]
  },
  {
   "cell_type": "markdown",
   "metadata": {},
   "source": [
    "## [Basic Data Types](https://realpython.com/python-data-types/)\n",
    "\n",
    "1. Numaric Types:     \n",
    "    a. Integer: 3,5,..., etc. positive or negatives   #in Math the set is $Z=\\{\\dots,-1,0,1,\\dots\\}$     \n",
    "    b. hexa, octa, binary.    \n",
    "    c. Float or real: 1.111, 2.5,...,etc. positives or negatives  # in Math the set is $R=\\{{-\\infty},\\dots,0,\\dots,{\\infty} \\}$     \n",
    "    d. Fractions: $\\frac{1}{2},...,$ positives or negatives # in Math the set symbol is $Q$ and $Z \\subseteq Q \\subseteq R$    \n",
    "    e. [Complex](https://en.wikipedia.org/wiki/Complex_number#:~:text=A%20complex%20number%20is%20a,is%20called%20an%20imaginary%20number.): $3+2i$    \n",
    "    f. boolean: True or False.    \n",
    "\n",
    "\n",
    "<b> some books disjoint boolean from numeric data types </b>\n",
    "\n",
    "\n",
    "#### Examples from real-life?"
   ]
  },
  {
   "cell_type": "markdown",
   "metadata": {},
   "source": [
    "## [Sequence Data Types](https://www.studytonight.com/python/data-types-in-python)\n",
    "\n",
    "1. String:     \n",
    "    - A sequence literals in python are surrounded by either single quotation marks, or double quotation marks.    \n",
    "    - A sequence can be multiple-line like a comment.\n",
    "    - String is immutable (non changable).    \n",
    "2. List:    \n",
    "    - A sequence of items (that may or may not with the same data types).\n",
    "    - Lists are mutable and indexed/ordered. \n",
    "    - The list is enclosed in square brackets $[]$.    \n",
    "3. Tuple:\n",
    "    - A sequence of values of any type and are indexed by integers.    \n",
    "    - Tuples are enclosed in curved brackets i.e., ().    \n",
    "    - Tuples are are immutable, hence once we assign it some value, we cannot change it later.   \n",
    "    - Tuple is faster in implementation than List.\n",
    "    \n",
    " #### Examples from real-life?"
   ]
  },
  {
   "cell_type": "markdown",
   "metadata": {},
   "source": [
    "## Other Data Types\n",
    "\n",
    "1. Set: \n",
    "    - Set is an unordered collection of values of any type with no duplicate entry.      \n",
    "    - Set is immutable (their values can't be changed later).    \n",
    "2. Mapping or Dictionary:\n",
    "    - Its store is a key-value pair, which is accessed using the key.     \n",
    "    - Dictionary is enclosed in curly brackets { }.   \n",
    "    - It is mutable.      \n",
    "    \n",
    "    \n",
    " #### Examples from real-life?"
   ]
  },
  {
   "cell_type": "code",
   "execution_count": null,
   "metadata": {},
   "outputs": [],
   "source": [
    "# In the following give us the data type of each variable\n",
    "\n",
    "x= 5\n",
    "y=\"\"\" Hi\n",
    "I am here in the \n",
    "first lecture\n",
    "\"\"\"\n",
    "z= (1,'s',2.5)\n",
    "a=1.5\n",
    "b=[1,4,'s']\n",
    "d={'la':'010001','lb':2}"
   ]
  },
  {
   "cell_type": "code",
   "execution_count": null,
   "metadata": {},
   "outputs": [],
   "source": [
    "print (x,y,x,a,b,d)"
   ]
  },
  {
   "cell_type": "code",
   "execution_count": null,
   "metadata": {},
   "outputs": [],
   "source": [
    "print (z[1])"
   ]
  },
  {
   "cell_type": "code",
   "execution_count": null,
   "metadata": {},
   "outputs": [],
   "source": []
  },
  {
   "cell_type": "code",
   "execution_count": null,
   "metadata": {},
   "outputs": [],
   "source": [
    "z[1]='BMI 6018'\n",
    "print(z)"
   ]
  },
  {
   "cell_type": "code",
   "execution_count": null,
   "metadata": {},
   "outputs": [],
   "source": [
    "#What do you expect from running the following statment:\n",
    "\n",
    "bb= 100/0"
   ]
  },
  {
   "cell_type": "code",
   "execution_count": null,
   "metadata": {},
   "outputs": [],
   "source": [
    "#what you expect from the running the following statement\n",
    "\n",
    "A=bb/30"
   ]
  },
  {
   "cell_type": "code",
   "execution_count": null,
   "metadata": {},
   "outputs": [],
   "source": [
    "b[1]='BMI 6018'\n",
    "print(b)"
   ]
  },
  {
   "cell_type": "code",
   "execution_count": null,
   "metadata": {},
   "outputs": [],
   "source": [
    "print (XX)"
   ]
  },
  {
   "cell_type": "code",
   "execution_count": null,
   "metadata": {},
   "outputs": [],
   "source": [
    "l=1/0"
   ]
  },
  {
   "cell_type": "markdown",
   "metadata": {},
   "source": [
    "## [Keywords](http://makemeanalyst.com/python-programming/variable-names-and-keywords/)\n",
    "\n",
    "### Keywords in python 3.3 or later are 33:\n",
    "\n",
    "<img src=\"./images/Keywords.png\" width=760 height=760 />\n",
    "\n",
    "<b> Some languages have keywords and reserved words. Reserved words are language words that cann't be used as identifiers but keywords can be. In python, keywords and reserved words are the same. </b>"
   ]
  },
  {
   "cell_type": "code",
   "execution_count": null,
   "metadata": {},
   "outputs": [],
   "source": [
    "if=6"
   ]
  },
  {
   "cell_type": "code",
   "execution_count": null,
   "metadata": {},
   "outputs": [],
   "source": [
    "If=5\n",
    "print(If)"
   ]
  },
  {
   "cell_type": "markdown",
   "metadata": {},
   "source": [
    "## Functions\n",
    "\n",
    "1. A function is a block of code which only runs when it is called --- It is an organization of your code into sequential blocks.\n",
    "2. You can pass data, known as parameters or , into a function.\n",
    "3. A function can return data as a result."
   ]
  },
  {
   "cell_type": "code",
   "execution_count": null,
   "metadata": {},
   "outputs": [],
   "source": [
    "# create a function using def keyword\n",
    "# The function is with def keyword, no argument, a return value\n",
    "def dummy():\n",
    "    a1=10\n",
    "    print ('hi')\n",
    "    return a1"
   ]
  },
  {
   "cell_type": "code",
   "execution_count": null,
   "metadata": {},
   "outputs": [],
   "source": [
    "#Call dummy\n",
    "\n",
    "print(dummy())"
   ]
  },
  {
   "cell_type": "code",
   "execution_count": null,
   "metadata": {},
   "outputs": [],
   "source": [
    "# create a function using def keyword\n",
    "# The function is with def keyword, 2 arguments, a return value\n",
    "def dummy_1(a1,b1):\n",
    "    c1=a1+b1\n",
    "    print ('hi')\n",
    "    return c1"
   ]
  },
  {
   "cell_type": "code",
   "execution_count": null,
   "metadata": {},
   "outputs": [],
   "source": [
    "#Call dummy_1\n",
    "\n",
    "print(dummy_1(-1,5))"
   ]
  },
  {
   "cell_type": "code",
   "execution_count": null,
   "metadata": {},
   "outputs": [],
   "source": [
    "# create a function using def keyword\n",
    "# The function is with def keyword, 2 arguments, a return value\n",
    "def dummy_2(a1,b1):\n",
    "    print ('hi')\n",
    "    return a1*b1"
   ]
  },
  {
   "cell_type": "code",
   "execution_count": null,
   "metadata": {},
   "outputs": [],
   "source": [
    "#Call dummy_2\n",
    "\n",
    "print(dummy_2(-1,5))"
   ]
  },
  {
   "cell_type": "code",
   "execution_count": null,
   "metadata": {},
   "outputs": [],
   "source": [
    "# create a function using def keyword\n",
    "# The function is with def keyword, no arguments and no return values\n",
    "def dummy_3():\n",
    "    print ('hi')"
   ]
  },
  {
   "cell_type": "code",
   "execution_count": null,
   "metadata": {},
   "outputs": [],
   "source": [
    "# you need to call this function as a stand-alone calling\n",
    "dummy_3()"
   ]
  },
  {
   "cell_type": "code",
   "execution_count": null,
   "metadata": {
    "scrolled": true
   },
   "outputs": [],
   "source": [
    "#One python function that doesn't return any value is print()"
   ]
  },
  {
   "cell_type": "code",
   "execution_count": null,
   "metadata": {},
   "outputs": [],
   "source": [
    "myFirstName='Samir'\n",
    "myLastName='Abdelrahman'\n",
    "#Implement a function that doesn't return anything\n",
    "\n",
    "def printMyWholeName(first,last):\n",
    "    print(first+' '+last)"
   ]
  },
  {
   "cell_type": "code",
   "execution_count": null,
   "metadata": {},
   "outputs": [],
   "source": [
    "printMyWholeName(myFirstName,myLastName)"
   ]
  },
  {
   "cell_type": "code",
   "execution_count": null,
   "metadata": {},
   "outputs": [],
   "source": [
    "#Implement the above function to return the whole name"
   ]
  },
  {
   "cell_type": "markdown",
   "metadata": {},
   "source": [
    "## [Built-in Functions](https://docs.python.org/3/library/functions.html)\n",
    "\n",
    "<img src=\"./images/Functions.png\" width=760 height=760 />\n",
    "\n",
    "<b> Many data types as objects has their own methods or functions. </b>"
   ]
  },
  {
   "cell_type": "code",
   "execution_count": null,
   "metadata": {},
   "outputs": [],
   "source": [
    "#Using type function to check the type of the variable\n",
    "\n",
    "type(b)"
   ]
  },
  {
   "cell_type": "code",
   "execution_count": null,
   "metadata": {},
   "outputs": [],
   "source": [
    "type(a)"
   ]
  },
  {
   "cell_type": "code",
   "execution_count": null,
   "metadata": {},
   "outputs": [],
   "source": [
    "abs(-1)"
   ]
  },
  {
   "cell_type": "code",
   "execution_count": null,
   "metadata": {},
   "outputs": [],
   "source": [
    "round(3.45678)"
   ]
  },
  {
   "cell_type": "code",
   "execution_count": null,
   "metadata": {},
   "outputs": [],
   "source": [
    "float(3)"
   ]
  },
  {
   "cell_type": "code",
   "execution_count": null,
   "metadata": {},
   "outputs": [],
   "source": [
    "L=[3,-1,31]\n",
    "\n",
    "#use '.' to show all methods or variables related to L"
   ]
  },
  {
   "cell_type": "code",
   "execution_count": null,
   "metadata": {},
   "outputs": [],
   "source": [
    "L.sort()\n",
    "print(L)"
   ]
  },
  {
   "cell_type": "markdown",
   "metadata": {},
   "source": [
    "## [Modules](https://docs.python.org/3/tutorial/modules.html#:~:text=A%20module%20is%20a%20file,global%20variable%20__name__%20.)\n",
    "\n",
    "<b> Modules in Python are simply Python files with a .py extension.  The name of the module will be the name of the file. A Python module can have a set of functions, classes or variables defined and implemented that serves the objective of the module. </b>\n",
    "\n",
    "#### Python comes with different modules like os, sys, math but you can add your own modules or you downloaded from the web using instructions to do that.\n",
    "\n",
    "#### You can access python or your modules from your code using import \n",
    "\n"
   ]
  },
  {
   "cell_type": "code",
   "execution_count": null,
   "metadata": {},
   "outputs": [],
   "source": [
    "import os"
   ]
  },
  {
   "cell_type": "code",
   "execution_count": null,
   "metadata": {},
   "outputs": [],
   "source": [
    "##Try os."
   ]
  },
  {
   "cell_type": "code",
   "execution_count": null,
   "metadata": {},
   "outputs": [],
   "source": [
    "import math\n",
    "\n",
    "math.cos(100)"
   ]
  },
  {
   "cell_type": "code",
   "execution_count": null,
   "metadata": {},
   "outputs": [],
   "source": [
    "Math.cos(100)"
   ]
  },
  {
   "cell_type": "code",
   "execution_count": null,
   "metadata": {},
   "outputs": [],
   "source": [
    "import math\n",
    "math.ceil(1.4)"
   ]
  },
  {
   "cell_type": "markdown",
   "metadata": {},
   "source": [
    "## [If condition](https://www.w3schools.com/python/python_conditions.asp)\n",
    "\n",
    "In order to make a decision in any programming language, we need to check conditions for true or false value.\n",
    "\n",
    "<img src=\"./images/Conditions.png\" width=320 height=320 />\n",
    "\n",
    "<b> A condition is an expression having logical operators e.g. $ <,<=, >, >=, ==, !=, and, or$ </b>      \n",
    "\n",
    "\n",
    "<b> Syntax of a single condition </b>   \n",
    "if (condition):    \n",
    "&nbsp;&nbsp;sentence or more\n",
    "\n",
    "<b> Compound Conditions</b>   \n"
   ]
  },
  {
   "cell_type": "code",
   "execution_count": null,
   "metadata": {},
   "outputs": [],
   "source": [
    "A=2\n",
    "B=1\n",
    "if (A>=B):    # If A >= B is true then print A and B \n",
    "    print (A,B)"
   ]
  },
  {
   "cell_type": "code",
   "execution_count": null,
   "metadata": {},
   "outputs": [],
   "source": [
    "C=4\n",
    "if (A>=B) and (B <= C):\n",
    "    print (A,B,C)"
   ]
  },
  {
   "cell_type": "code",
   "execution_count": null,
   "metadata": {},
   "outputs": [],
   "source": [
    "if (A==B) or (B == C):\n",
    "      print (A,B,C)"
   ]
  },
  {
   "cell_type": "code",
   "execution_count": null,
   "metadata": {},
   "outputs": [],
   "source": [
    "#Does the follwing the if statements will give us error?why?\n",
    "\n",
    "if (A==B) or (B == C):\n",
    "print (A,B,C)"
   ]
  },
  {
   "cell_type": "markdown",
   "metadata": {},
   "source": [
    "## Let us discuss examples to describe why python is an error-pruning programming language?"
   ]
  },
  {
   "cell_type": "code",
   "execution_count": null,
   "metadata": {},
   "outputs": [],
   "source": []
  }
 ],
 "metadata": {
  "kernelspec": {
   "display_name": "Python 3",
   "language": "python",
   "name": "python3"
  },
  "language_info": {
   "codemirror_mode": {
    "name": "ipython",
    "version": 3
   },
   "file_extension": ".py",
   "mimetype": "text/x-python",
   "name": "python",
   "nbconvert_exporter": "python",
   "pygments_lexer": "ipython3",
   "version": "3.7.3"
  }
 },
 "nbformat": 4,
 "nbformat_minor": 2
}
