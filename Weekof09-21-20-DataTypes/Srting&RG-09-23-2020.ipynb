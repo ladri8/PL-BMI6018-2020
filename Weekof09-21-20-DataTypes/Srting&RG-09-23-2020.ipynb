{
 "cells": [
  {
   "cell_type": "markdown",
   "metadata": {},
   "source": [
    "## Problem Solving Excercise 1:\n",
    "\n",
    "<b> Given an odd-length string, write a function to return the middle three characters. </b>"
   ]
  },
  {
   "cell_type": "code",
   "execution_count": null,
   "metadata": {},
   "outputs": [],
   "source": [
    "def getMiddleThreeChars(string):\n",
    "    middle=int(len(string)/2)\n",
    "    return string, string[middle-1:middle+2]\n",
    "myString=input('Enter a string with oddlength: ')\n",
    "assert ((len(myString) % 2)!=0), 'Input Error'\n",
    "print(getMiddleThreeChars(myString))"
   ]
  },
  {
   "cell_type": "markdown",
   "metadata": {},
   "source": [
    "## Problem Solving Excercise 1:\n",
    "\n",
    "<b> Given a string, write a function that returns the counts of digits, lower case, upper case, and special symbols in that string </b>"
   ]
  },
  {
   "cell_type": "code",
   "execution_count": null,
   "metadata": {},
   "outputs": [],
   "source": [
    "def extractCounts(string):\n",
    "    digits, upperCase,lowerCase, specialSymbols=0,0,0,0\n",
    "    for char in string:\n",
    "        if (char.islower()):\n",
    "            lowerCase +=1\n",
    "        elif (char.isupper()):\n",
    "            upperCase +=1\n",
    "        elif (char.isnumeric()):\n",
    "            digits +=1\n",
    "        else:\n",
    "            specialSymbols +=1\n",
    "    return (digits, upperCase,lowerCase, specialSymbols)   \n",
    "myString=input('Enter a string: ')\n",
    "digits, upperCase,lowerCase, specialSymbols=extractCounts(myString)\n",
    "print(\"# of digits = {0}, # of upper cases= {1}, # of lower case {2}, # of special symbols ={3}\".format(digits, upperCase,lowerCase, specialSymbols))\n"
   ]
  },
  {
   "cell_type": "markdown",
   "metadata": {},
   "source": [
    "## [Random Generators](https://docs.python.org/3/library/random.html)\n",
    "\n",
    "\n",
    "A simple [youtube](https://www.youtube.com/watch?v=KzqSDvzOFNA) to watch"
   ]
  },
  {
   "cell_type": "code",
   "execution_count": null,
   "metadata": {},
   "outputs": [],
   "source": [
    "import random\n",
    "help (random)"
   ]
  },
  {
   "cell_type": "code",
   "execution_count": null,
   "metadata": {},
   "outputs": [],
   "source": [
    "help(random.randint)"
   ]
  },
  {
   "cell_type": "code",
   "execution_count": null,
   "metadata": {},
   "outputs": [],
   "source": [
    "help(random.randrange)"
   ]
  },
  {
   "cell_type": "code",
   "execution_count": null,
   "metadata": {},
   "outputs": [],
   "source": [
    "#Generating random numbers:\n",
    "\n",
    "import random\n",
    "\n",
    "print(\"Random integer from 0 to 100\")\n",
    "num1 = random.randint(0, 100)\n",
    "print(\"Random integer: \", num1)\n",
    "\n",
    "print(\"Random integer from 10 to 2000\")\n",
    "num2 = random.randrange(10, 2000,5)\n",
    "print(\"Random integer: \", num2)"
   ]
  },
  {
   "cell_type": "code",
   "execution_count": null,
   "metadata": {},
   "outputs": [],
   "source": [
    "help(random.seed)"
   ]
  },
  {
   "cell_type": "code",
   "execution_count": null,
   "metadata": {},
   "outputs": [],
   "source": [
    "#Using seed with random generator to ensure that it generates the same numbers.. It is to initialize the random number generator.\n",
    "\n",
    "random.seed(1234)\n",
    "print(\"Random integer from 0 to 100\")\n",
    "num1 = random.randint(0, 100)    # generate numbers from inclusive range\n",
    "print(\"Random integer: \", num1)\n",
    "\n",
    "print(\"Random integer from 10 to 2000\")\n",
    "num2 = random.randrange(10, 2000,5)\n",
    "print(\"Random integer: \", num2) # generate numbers from exclusive range\n"
   ]
  },
  {
   "cell_type": "code",
   "execution_count": null,
   "metadata": {},
   "outputs": [],
   "source": [
    "help(random.sample)"
   ]
  },
  {
   "cell_type": "code",
   "execution_count": null,
   "metadata": {},
   "outputs": [],
   "source": [
    "#Create a list of random numbers without duplicates\n",
    "\n",
    "#use random.sample()\n",
    "\n",
    "import random\n",
    "\n",
    "# Generate 'n' unique random numbers within a range\n",
    "randomList = random.sample(range(0, 100), 10)\n",
    "print(randomList)\n",
    "\n"
   ]
  },
  {
   "cell_type": "code",
   "execution_count": null,
   "metadata": {},
   "outputs": [],
   "source": [
    "#Using sample to generate a list of characters from the string\n",
    "\n",
    "import random\n",
    "\n",
    "# Generate 'n' unique random numbers within a range\n",
    "randomList = random.sample(\"Hello World -- It is BMI6018\", 10)\n",
    "print(randomList)\n"
   ]
  },
  {
   "cell_type": "code",
   "execution_count": null,
   "metadata": {},
   "outputs": [],
   "source": [
    "help(random.choice)"
   ]
  },
  {
   "cell_type": "code",
   "execution_count": null,
   "metadata": {},
   "outputs": [],
   "source": [
    "#  random.choice() function to return an element from a sequence\n",
    "\n",
    "numberTuple = (111,222,333,444,555)\n",
    "print(\"random item from a tuple is: \", random.choice(numberTuple))"
   ]
  },
  {
   "cell_type": "code",
   "execution_count": null,
   "metadata": {},
   "outputs": [],
   "source": [
    "help(random.choices)"
   ]
  },
  {
   "cell_type": "code",
   "execution_count": null,
   "metadata": {},
   "outputs": [],
   "source": [
    "#  random.choices() function to return multiple elements from a sequence\n",
    "\n",
    "numberTuple = (111,222,333,444,555)\n",
    "print(\"random items from a tuple is: \", random.choices(numberTuple,k=2))\n",
    "print(\"random a subtuple of items from a tuple is: \", tuple(random.choices(numberTuple,k=2)))"
   ]
  },
  {
   "cell_type": "code",
   "execution_count": null,
   "metadata": {},
   "outputs": [],
   "source": [
    "#  random.choices() function to return multiple elements rom a sequence with weights.\n",
    "\n",
    "numberTuple = (111,222,333,444)\n",
    "print(\"random items from a tuple is: \", random.choices(numberTuple,weights=(25,10,50,15),k=8))"
   ]
  },
  {
   "cell_type": "code",
   "execution_count": null,
   "metadata": {},
   "outputs": [],
   "source": [
    "#random.sample(population, k). Sampling without replacement.\n",
    "import random\n",
    "myList=[1,7,8,120,-10,1]\n",
    "print(random.sample(myList, 4))\n",
    "print(random.sample(myList, 6))"
   ]
  },
  {
   "cell_type": "code",
   "execution_count": null,
   "metadata": {},
   "outputs": [],
   "source": [
    "#random.sample(population, k). Sampling with replacement.\n",
    "import random\n",
    "myList=[1,7,8,120,-10,1]\n",
    "print(random.choices(myList, k=4))\n",
    "print(random.choices(myList, k=6))\n"
   ]
  },
  {
   "cell_type": "code",
   "execution_count": null,
   "metadata": {},
   "outputs": [],
   "source": [
    "# Random shuffle\n",
    "#random.shuffle(x, random)\n",
    "\n",
    "help(random.shuffle)"
   ]
  },
  {
   "cell_type": "code",
   "execution_count": null,
   "metadata": {},
   "outputs": [],
   "source": [
    "import random\n",
    "\n",
    "number_list = [7, 14, 21, 28, 35, 42, 49, 56, 63, 70]\n",
    "print(\"Original list:\", number_list)\n",
    "\n",
    "random.shuffle(number_list)\n",
    "print(\"List after first shuffle:\", number_list)\n",
    "\n",
    "random.shuffle(number_list)\n",
    "print(\"List after second shuffle:\", number_list)"
   ]
  },
  {
   "cell_type": "code",
   "execution_count": null,
   "metadata": {},
   "outputs": [],
   "source": [
    "#Using seed\n",
    "\n",
    "import random\n",
    "\n",
    "numbers = [10, 20, 30, 40, 50, 60]\n",
    "print (\"Original list: \", numbers )\n",
    "random.seed(4)\n",
    "random.shuffle(numbers)\n",
    "print(\"reshuffled list \", numbers)\n",
    "\n",
    "random.seed(4)\n",
    "random.shuffle(numbers)\n",
    "print(\"reshuffled list \", numbers)"
   ]
  },
  {
   "cell_type": "code",
   "execution_count": null,
   "metadata": {},
   "outputs": [],
   "source": [
    "import random\n",
    "help(random.random())"
   ]
  },
  {
   "cell_type": "code",
   "execution_count": null,
   "metadata": {},
   "outputs": [],
   "source": [
    "#random float with the range\n",
    "\n",
    "import random\n",
    "\n",
    "x = random.random()\n",
    "print(\"Random float number is \", x)"
   ]
  },
  {
   "cell_type": "code",
   "execution_count": null,
   "metadata": {},
   "outputs": [],
   "source": [
    "#random float in uniform range\n",
    "help(random.uniform)"
   ]
  },
  {
   "cell_type": "code",
   "execution_count": null,
   "metadata": {},
   "outputs": [],
   "source": [
    "import random\n",
    "\n",
    "x = random.uniform(11.5, 101.5)\n",
    "print(\"Random float number between range 11.5 to 101.5 \", x)"
   ]
  },
  {
   "cell_type": "code",
   "execution_count": null,
   "metadata": {},
   "outputs": [],
   "source": [
    "import random\n",
    "\n",
    "print(\"Random float number with 2 decimal places\")\n",
    "num2 = round(random.random(), 2)\n",
    "print(num2)\n",
    "\n",
    "num2 = round(random.uniform(33.33, 66.66), 2)\n",
    "print(num2)\n"
   ]
  },
  {
   "cell_type": "code",
   "execution_count": null,
   "metadata": {},
   "outputs": [],
   "source": [
    "# Generate a random string of lower case and upper case letters\n",
    "\n",
    "import random\n",
    "import string\n",
    "\n",
    "def get_random_string(length):\n",
    "    # Random string with the combination of lower and upper case\n",
    "    letters = string.ascii_letters\n",
    "    result_str = ''.join(random.choice(letters) for i in range(length))\n",
    "    print(\"Random string is:\", result_str)\n",
    "\n",
    "get_random_string(20)\n",
    "get_random_string(20)"
   ]
  },
  {
   "cell_type": "code",
   "execution_count": null,
   "metadata": {},
   "outputs": [],
   "source": []
  }
 ],
 "metadata": {
  "kernelspec": {
   "display_name": "Python 3",
   "language": "python",
   "name": "python3"
  },
  "language_info": {
   "codemirror_mode": {
    "name": "ipython",
    "version": 3
   },
   "file_extension": ".py",
   "mimetype": "text/x-python",
   "name": "python",
   "nbconvert_exporter": "python",
   "pygments_lexer": "ipython3",
   "version": "3.7.3"
  }
 },
 "nbformat": 4,
 "nbformat_minor": 2
}
