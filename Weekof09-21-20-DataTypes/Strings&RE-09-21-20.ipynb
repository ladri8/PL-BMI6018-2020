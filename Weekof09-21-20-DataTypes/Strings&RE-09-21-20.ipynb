{
 "cells": [
  {
   "cell_type": "markdown",
   "metadata": {},
   "source": [
    "## Problem Solving Excercise 1:\n",
    "\n",
    "<b> Write a function to sum series 3+33+333+3333+...+n terms. The input of this series is n. Call the function to print the summation </b> \n",
    "\n",
    "\n",
    "## Example of input and outputs:\n",
    "\n",
    "Input : number_of_terms = 5       \n",
    "The series will become 3+33+333+3333+33333\n",
    "\n",
    "The result will be 37035\n"
   ]
  },
  {
   "cell_type": "code",
   "execution_count": null,
   "metadata": {},
   "outputs": [],
   "source": [
    "#Solution\n",
    "\n",
    "def calcSeries(theBase, terms):\n",
    "    sum=0\n",
    "    theTerm=theBase\n",
    "    for i in range(0, terms):\n",
    "        sum += theTerm\n",
    "        theTerm = (theTerm *10) + theBase\n",
    "    return sum\n",
    "\n",
    "theBase=int(input('Enter the first term: '))\n",
    "theNumberofTerms=int(input('Enter the the Number of Terms: '))\n",
    "\n",
    "print(calcSeries(theBase,theNumberofTerms))"
   ]
  },
  {
   "cell_type": "markdown",
   "metadata": {},
   "source": [
    "## Problem Solving Excercise 2:\n",
    "\n",
    "<b> Write a python program to count the number of digits in a number using while-loop. </b> \n",
    "\n",
    "\n",
    "## Example of input and outputs:\n",
    "\n",
    "Input : number_of_terms = 500      \n",
    "The result will be 3 digits"
   ]
  },
  {
   "cell_type": "code",
   "execution_count": null,
   "metadata": {},
   "outputs": [],
   "source": [
    "#Solution: \n",
    "\n",
    "number = int(input(\"Please Enter any Number: \"))\n",
    "count = 0\n",
    "while(number > 0):\n",
    "    number = number // 10\n",
    "    print(number)\n",
    "    count = count + 1\n",
    "\n",
    "print(\"\\n Number of Digits in a Given Number = %d\" %count)"
   ]
  },
  {
   "cell_type": "markdown",
   "metadata": {},
   "source": [
    "# [String Data Type](https://www.programiz.com/python-programming/string)\n",
    "\n",
    "A string is a sequence of characters.\n",
    "\n",
    "A character is simply a symbol. For example, the English language has 26 characters.\n",
    "\n",
    "Computers do not deal with characters, they deal with numbers (binary). Even though you may see characters on your screen, internally it is stored and manipulated as a combination of 0s and 1s.\n",
    "\n",
    "This conversion of character to a number is called encoding, and the reverse process is decoding. ASCII and Unicode are some of the popular encodings used.\n",
    "\n",
    "\n",
    "<b> You need to explore all methods related to [string data type](http://www.python-ds.com/python-3-string-methods) </b>\n"
   ]
  },
  {
   "cell_type": "markdown",
   "metadata": {},
   "source": [
    "# Excerise 1:\n",
    "\n",
    "<b> Write string methods that take a specific string S and print the following requirements: </b>\n",
    "\n",
    "1. Use [format](https://www.programiz.com/python-programming/methods/string/format) to print strings in specific formats.\n",
    "2. Convert the whole string into upper case.\n",
    "3. Remove the cases from the whole string.\n",
    "4. Find the position of a word W in S. \n",
    "5. Find the first and the last characters in the string.\n",
    "5. Find the strings start and end with 'sy' and 'ers'."
   ]
  },
  {
   "cell_type": "code",
   "execution_count": null,
   "metadata": {},
   "outputs": [],
   "source": [
    "# string.format(value1, value2,....)\n",
    "\n",
    "txt = \"For only {price:.2f} dollars!\"\n",
    "print(txt.format(price = 49))"
   ]
  },
  {
   "cell_type": "code",
   "execution_count": null,
   "metadata": {},
   "outputs": [],
   "source": [
    "txt1 = \"My friend name is {name}, his age is {age}\".format(name = \"Adam\", age = 36)\n",
    "txt2 = \"My friend name  is {0}, his age is {1}\".format(\"Adam\",36)\n",
    "txt3 = \"My friend name  is {}, his age is {}\".format(\"Adam\",36)\n",
    "print(txt1)\n",
    "print(txt2)\n",
    "print(txt3)"
   ]
  },
  {
   "cell_type": "code",
   "execution_count": null,
   "metadata": {},
   "outputs": [],
   "source": [
    "#operators like < or > and :d or :b\n",
    "\n",
    "txt = \"We have {:<9} eggs.\"\n",
    "print(txt.format(49))\n",
    "\n",
    "\n",
    "#Use \"b\" to convert the number into binary format:\n",
    "\n",
    "txt = \"The binary version of {0} is {0:b}\"\n",
    "print(txt.format(5))\n",
    "\n"
   ]
  },
  {
   "cell_type": "code",
   "execution_count": null,
   "metadata": {},
   "outputs": [],
   "source": [
    "#Solution\n",
    "\n",
    "S=\"\"\"A string is a sequence of characters. \n",
    "A character is simply a symbol. For example, the English language has 26 characters.\"\"\"\n",
    "W=input (\"Enter a word to search in your string S\")\n",
    "\n",
    "print(S.upper()+\"\\n\\n\\n\")\n",
    "print(S.casefold()+\"\\n\\n\\n\")\n",
    "print(S.find(W))\n",
    "print(S.casefold().find(W.casefold()))\n",
    "print('The first character is '+S[0], ' The last character is '+S[len(S)-1], sep=',')\n",
    "print(S.casefold().startswith('sy'),S.casefold().endswith('ers'))\n",
    "\n",
    "\n"
   ]
  },
  {
   "cell_type": "markdown",
   "metadata": {},
   "source": [
    "# [Substrings from a string:](https://www.freecodecamp.org/news/how-to-substring-a-string-in-python/)\n",
    "\n",
    "\n",
    "<b> use string[start: end: step] </b>"
   ]
  },
  {
   "cell_type": "code",
   "execution_count": null,
   "metadata": {},
   "outputs": [],
   "source": [
    "#Find the last 6 charachers from the string\n",
    "\n",
    "S=\"\"\"A string is a sequence of characters. \n",
    "A character is simply a symbol. For example, the English language has 26 characters.\"\"\"\n",
    "\n",
    "print(S[len(S)-6:len(S):1])\n"
   ]
  },
  {
   "cell_type": "code",
   "execution_count": null,
   "metadata": {},
   "outputs": [],
   "source": [
    "#Find the last 6 charachers from the string in a reverse order\n",
    "\n",
    "S=\"\"\"A string is a sequence of characters. \n",
    "A character is simply a symbol. For example, the English language has 26 characters.\"\"\"\n",
    "\n",
    "print(S[len(S):len(S)-7:-1])"
   ]
  },
  {
   "cell_type": "code",
   "execution_count": null,
   "metadata": {},
   "outputs": [],
   "source": [
    "#Get every other character from a string\n",
    "S=\"Course BMI6018\"\n",
    "\n",
    "print(S[::2])\n"
   ]
  },
  {
   "cell_type": "markdown",
   "metadata": {},
   "source": [
    "# Reverse a string"
   ]
  },
  {
   "cell_type": "code",
   "execution_count": null,
   "metadata": {},
   "outputs": [],
   "source": [
    "#Reverse a string using reversed method and list\n",
    "S=\"Course BMI6018\"\n",
    "print(list(reversed(S)))"
   ]
  },
  {
   "cell_type": "code",
   "execution_count": null,
   "metadata": {},
   "outputs": [],
   "source": [
    "#Reverse a string using reversed method and list then using join to return the reversed string\n",
    "S=\"Course BMI6018\"\n",
    "S=list(reversed(S))\n",
    "S=('').join(S)\n",
    "\n",
    "print(S)\n",
    "\n"
   ]
  },
  {
   "cell_type": "code",
   "execution_count": null,
   "metadata": {},
   "outputs": [],
   "source": [
    "# Let us play more : use join and reversed method to check if a string is a palindrome.\n",
    "\n",
    "S=\"madam\"\n",
    "S1=S.casefold()\n",
    "S2=('').join(list(reversed(S1)))\n",
    "\n",
    "check= S1==S2\n",
    "\n",
    "print ('The answer to the question whether \\'%s\\' is a palindorme or not is '%S+str(check))"
   ]
  },
  {
   "cell_type": "markdown",
   "metadata": {},
   "source": [
    "# Concatenate strings"
   ]
  },
  {
   "cell_type": "code",
   "execution_count": null,
   "metadata": {},
   "outputs": [],
   "source": [
    "S1=\"An Introduction to Programming Language\"\n",
    "S2=\"BMI6018\"\n",
    "\n",
    "#Concatenate S1 and S2\n",
    "print(S1+\" : \"+S2)\n",
    "print(\" : \".join([S1,S2]))\n",
    "\n",
    "#Concatenate a list of strings in a reverse order.\n",
    "\n",
    "L=['1','0','1','1']\n",
    "S=''\n",
    "for i in range(len(L)-1,-1,-1):\n",
    "    S+=L[i]\n",
    "print(S)"
   ]
  },
  {
   "cell_type": "code",
   "execution_count": null,
   "metadata": {},
   "outputs": [],
   "source": [
    "#Concatenate a list of strings in a reverse order.\n",
    "\n",
    "L=['1','0','1','1']\n",
    "print(''.join(list(reversed(L))))"
   ]
  },
  {
   "cell_type": "markdown",
   "metadata": {},
   "source": [
    "# Split strings"
   ]
  },
  {
   "cell_type": "code",
   "execution_count": null,
   "metadata": {},
   "outputs": [],
   "source": [
    "S1=\"An Introduction to Programming Language\"\n",
    "print(S1.split())\n",
    "print(S1.split(' '))\n",
    "print(S1.split(' ',maxsplit=1))\n"
   ]
  },
  {
   "cell_type": "markdown",
   "metadata": {},
   "source": [
    "# Replace strings"
   ]
  },
  {
   "cell_type": "code",
   "execution_count": null,
   "metadata": {},
   "outputs": [],
   "source": [
    "S1=\"An Introduction to Programming Language\"\n",
    "S1=S1.replace(' ',',')\n",
    "print (S1)"
   ]
  },
  {
   "cell_type": "markdown",
   "metadata": {},
   "source": [
    "# [Regular Experssion](https://en.wikipedia.org/wiki/Regular_expression) in Python\n",
    "\n",
    "\n",
    "<b> A regular expression (shortened as regex or regexp; also referred to as rational expression) is a sequence of characters that define a search pattern. Usually such patterns are used by string-searching algorithms for \"find\" or \"find and replace\" operations on strings, or for input validation. It is a technique developed in theoretical computer science and formal language theory. </b>     \n",
    "\n",
    "\n",
    "\n",
    "## [A Tutorial](https://www.programiz.com/python-programming/regex)\n",
    "\n",
    "\n",
    "### Some methods in the module re.\n",
    "\n",
    "1. findall:\tReturns a list containing all matches.\n",
    "2. search:\tReturns a Match object if there is a match anywhere in the string.\n",
    "3. split:\tReturns a list where the string has been split at each match.\n",
    "4. sub:\tReplaces one or many matches with a string.\n",
    "\n",
    "## Metacharacters:\n",
    "\n",
    "<b> [] . ^ $ * + ? {} () \\ | </b>\n",
    "\n",
    "## Special Sequences \n",
    "\n",
    "<b> They are: \\A, \\b, \\B, \\d , \\D. \\s, \\S, \\w, \\W, \\Z  </b>\n",
    "\n",
    "\n",
    "\n",
    "## Sets usually between brackets to include or execlude letters or digits.\n"
   ]
  },
  {
   "cell_type": "code",
   "execution_count": null,
   "metadata": {},
   "outputs": [],
   "source": [
    "# Search or findall substrings in a string:\n",
    "\n",
    "import re\n",
    "\n",
    "String = \"We are in SLC. SLC is an amazing city.\"\n",
    "String1 = \"AYay123. 1234\"\n",
    "\n",
    "\n",
    "srch1= re.search(\"\\.\\sSLC.*city\\.$\", String) #Find 'SLC is an amazing city'\n",
    "srch2= re.search(\"[^a-zA-z]{3}\", String1) #Find 123\n",
    "\n",
    "\n",
    "print(srch1.span() if srch1 else 'not found')\n",
    "print(srch1.group() if srch1 else 'not found')\n",
    "print('\\n\\n')\n",
    "print(srch2.span() if srch2 else 'not found')\n",
    "print(srch2.group() if srch2 else 'not found')\n",
    "\n",
    "\n",
    "\n",
    "print(\"\\n\\n\\n\")\n",
    "\n",
    "srch1= re.findall(\"\\.\\sSLC.*city\\.$\", String) #Find 'SLC is an amazing city'\n",
    "srch2= re.findall(\"[^a-zA-z]{3}\", String1) #Find 123\n",
    "\n",
    "\n",
    "print(srch1 if srch1 else 'not found')\n",
    "print(srch2 if srch2 else 'not found')\n",
    "\n",
    "\n"
   ]
  },
  {
   "cell_type": "code",
   "execution_count": null,
   "metadata": {},
   "outputs": [],
   "source": [
    "#Substring  -- Replace the first 2 substrings with '--'\n",
    "\n",
    "import re\n",
    "\n",
    "String = \"The rain in Spain\"\n",
    "srch1 = re.sub(\"\\s\", \"--\", String, 2)\n",
    "print(srch1)\n"
   ]
  }
 ],
 "metadata": {
  "kernelspec": {
   "display_name": "Python 3",
   "language": "python",
   "name": "python3"
  },
  "language_info": {
   "codemirror_mode": {
    "name": "ipython",
    "version": 3
   },
   "file_extension": ".py",
   "mimetype": "text/x-python",
   "name": "python",
   "nbconvert_exporter": "python",
   "pygments_lexer": "ipython3",
   "version": "3.7.3"
  }
 },
 "nbformat": 4,
 "nbformat_minor": 2
}
